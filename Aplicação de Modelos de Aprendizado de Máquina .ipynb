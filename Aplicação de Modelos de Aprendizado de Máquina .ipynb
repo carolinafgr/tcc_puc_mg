{
 "cells": [
  {
   "cell_type": "markdown",
   "id": "754d9698",
   "metadata": {},
   "source": [
    "# ANÁLISE DE SENTIMENTO EM REVIEWS DE TRÊS ESTRELAS: UMA PROPOSTA DE CLASSIFICAÇÃO MULTIRRÓTULO"
   ]
  },
  {
   "cell_type": "markdown",
   "id": "475cb3da",
   "metadata": {},
   "source": [
    "# Aplicação de Modelos de Aprendizado de Máquina \n"
   ]
  },
  {
   "cell_type": "code",
   "execution_count": null,
   "id": "228e154e",
   "metadata": {},
   "outputs": [],
   "source": [
    "import pandas as pd\n",
    "import numpy as np\n",
    "\n",
    "#Importa Matplotlib e Seaborn para Plotagem e Visualização de Dados\n",
    "import matplotlib.pyplot as plt\n",
    "import seaborn as sns \n",
    "\n",
    "#Importa bibliotecas necessárias para Desenvolvimento dos Modelos de Aprendizado de Máquina\n",
    "from sklearn.metrics import hamming_loss, accuracy_score\n",
    "from skmultilearn.problem_transform import BinaryRelevance\n",
    "from sklearn.svm import SVC #suport vector machine\n",
    "from sklearn.naive_bayes import MultinomialNB #naive bayes\n",
    "from sklearn.tree import DecisionTreeClassifier #arvore de decisão\n",
    "from sklearn.metrics import accuracy_score,classification_report #metricas"
   ]
  },
  {
   "cell_type": "markdown",
   "id": "a0468028",
   "metadata": {},
   "source": [
    "#### Task 01: Testar o Método BR com Support Vector Machine (SVM)"
   ]
  },
  {
   "cell_type": "code",
   "execution_count": null,
   "id": "0fb7da1f",
   "metadata": {},
   "outputs": [],
   "source": [
    "classifier_svm = BinaryRelevance(\n",
    "    classifier = SVC())"
   ]
  },
  {
   "cell_type": "code",
   "execution_count": null,
   "id": "c4b03d62",
   "metadata": {},
   "outputs": [],
   "source": [
    "# Treina com TFIDF\n",
    "classifier_svm.fit(X_train_tfidf, y_train)\n",
    "\n",
    "# Faz a predição com TFIDF\n",
    "predictions_tfidf_svm = classifier_svm.predict(X_test_tfidf)\n",
    "\n",
    "# Treina com BOW\n",
    "classifier_svm.fit(X_train_bow, y_train)\n",
    "\n",
    "# Faz a predição com BOW\n",
    "predictions_bow_svm = classifier_svm.predict(X_test_bow)"
   ]
  },
  {
   "cell_type": "code",
   "execution_count": null,
   "id": "5470e6ea",
   "metadata": {},
   "outputs": [],
   "source": [
    "# Acurácia SVM com TFIDF\n",
    "accuracy_score(y_test,predictions_tfidf_svm)"
   ]
  },
  {
   "cell_type": "code",
   "execution_count": null,
   "id": "ecf5ee3d",
   "metadata": {},
   "outputs": [],
   "source": [
    "# Hamming Loss SVM com TFDIF\n",
    "hamming_loss(y_test, predictions_tfidf_svm)"
   ]
  },
  {
   "cell_type": "code",
   "execution_count": null,
   "id": "9b4d57b4",
   "metadata": {},
   "outputs": [],
   "source": [
    "# Acurácia SVM com BOW\n",
    "accuracy_score(y_test,predictions_bow_svm)"
   ]
  },
  {
   "cell_type": "code",
   "execution_count": null,
   "id": "b00ee6f1",
   "metadata": {},
   "outputs": [],
   "source": [
    "# Hamming Loss SVM com BOW\n",
    "hamming_loss(y_test, predictions_bow_svm)"
   ]
  },
  {
   "cell_type": "markdown",
   "id": "2a04cee1",
   "metadata": {},
   "source": [
    "#### Task 02: Testar o Método BR com Naive Bayes (NB)"
   ]
  },
  {
   "cell_type": "code",
   "execution_count": null,
   "id": "f6787cad",
   "metadata": {},
   "outputs": [],
   "source": [
    "classifier_nb = BinaryRelevance(\n",
    "    classifier = MultinomialNB())"
   ]
  },
  {
   "cell_type": "code",
   "execution_count": null,
   "id": "b047e13e",
   "metadata": {},
   "outputs": [],
   "source": [
    "# Treina com TFIDF\n",
    "classifier_nb.fit(X_train_tfidf, y_train)\n",
    "\n",
    "# Faz a predição com TFIDF\n",
    "predictions_tfidf_nb = classifier_nb.predict(X_test_tfidf)\n",
    "\n",
    "# Treina com BOW\n",
    "classifier_nb.fit(X_train_bow, y_train)\n",
    "\n",
    "# Faz a predição com BOW\n",
    "predictions_bow_nb = classifier_nb.predict(X_test_bow)"
   ]
  },
  {
   "cell_type": "code",
   "execution_count": null,
   "id": "996303d1",
   "metadata": {},
   "outputs": [],
   "source": [
    "# Acurácia NB com TFIDF\n",
    "accuracy_score(y_test,predictions_tfidf_nb)"
   ]
  },
  {
   "cell_type": "code",
   "execution_count": null,
   "id": "94c790e7",
   "metadata": {},
   "outputs": [],
   "source": [
    "# Hamming Loss NB com TFDIF\n",
    "hamming_loss(y_test, predictions_tfidf_nb)"
   ]
  },
  {
   "cell_type": "code",
   "execution_count": null,
   "id": "17b96ddc",
   "metadata": {},
   "outputs": [],
   "source": [
    "# Acurácia NB com BOW\n",
    "accuracy_score(y_test,predictions_bow_nb)"
   ]
  },
  {
   "cell_type": "code",
   "execution_count": null,
   "id": "f870ca39",
   "metadata": {},
   "outputs": [],
   "source": [
    "# Hamming Loss NB com BOW\n",
    "hamming_loss(y_test, predictions_bow_nb)"
   ]
  },
  {
   "cell_type": "markdown",
   "id": "2536e055",
   "metadata": {},
   "source": [
    "#### Task 03: Testar o Método BR com Árvore de Decisão (AD)"
   ]
  },
  {
   "cell_type": "code",
   "execution_count": null,
   "id": "020a3c00",
   "metadata": {},
   "outputs": [],
   "source": [
    "classifier_ad = BinaryRelevance(\n",
    "    classifier = DecisionTreeClassifier(criterion='entropy'))"
   ]
  },
  {
   "cell_type": "code",
   "execution_count": null,
   "id": "1089a3bf",
   "metadata": {},
   "outputs": [],
   "source": [
    "# Treina com TFIDF\n",
    "classifier_ad.fit(X_train_tfidf, y_train)\n",
    "\n",
    "# Faz a predição com TFIDF\n",
    "predictions_tfidf_ad = classifier_ad.predict(X_test_tfidf)\n",
    "\n",
    "# Treina com BOW\n",
    "classifier_ad.fit(X_train_bow, y_train)\n",
    "\n",
    "# Faz a predição com BOW\n",
    "predictions_bow_ad = classifier_ad.predict(X_test_bow)"
   ]
  },
  {
   "cell_type": "code",
   "execution_count": null,
   "id": "dbf57d78",
   "metadata": {},
   "outputs": [],
   "source": [
    "# Acurácia AD com TFIDF\n",
    "accuracy_score(y_test,predictions_tfidf_ad)"
   ]
  },
  {
   "cell_type": "code",
   "execution_count": null,
   "id": "d2dc84f3",
   "metadata": {},
   "outputs": [],
   "source": [
    "# Hamming Loss AD com TFDIF\n",
    "hamming_loss(y_test, predictions_tfidf_ad)"
   ]
  },
  {
   "cell_type": "code",
   "execution_count": null,
   "id": "6eff6561",
   "metadata": {},
   "outputs": [],
   "source": [
    "# Acurácia AD com BOW\n",
    "accuracy_score(y_test,predictions_bow_ad)"
   ]
  },
  {
   "cell_type": "code",
   "execution_count": null,
   "id": "8641239d",
   "metadata": {},
   "outputs": [],
   "source": [
    "# Hamming Loss NB com BOW\n",
    "hamming_loss(y_test, predictions_bow_ad)"
   ]
  },
  {
   "cell_type": "markdown",
   "id": "9a9b9644",
   "metadata": {},
   "source": [
    "### MÉTRICAS - Parte Visual\n"
   ]
  },
  {
   "cell_type": "code",
   "execution_count": null,
   "id": "e4e6fbc1",
   "metadata": {},
   "outputs": [],
   "source": [
    "# Gráfico Barras Agrupadas - Acurácia\n",
    "acuraciabow = [0.80, 0.77, 0.74]\n",
    "acuraciatfidf = [0.78, 0.69, 0.73]\n",
    " \n",
    "# Definindo a largura das barras\n",
    "barWidth = 0.25\n",
    "\n",
    "# Aumentando o gráfico\n",
    "plt.figure(figsize=(12,7))\n",
    "\n",
    "# Definindo a posição das barras\n",
    "r1 = np.arange(len(acuraciabow))\n",
    "r2 = [x + barWidth for x in r1]\n",
    "\n",
    " \n",
    "# Criando as barras\n",
    "plt.bar(r1, acuraciabow, color='#24376D', width=barWidth, label='Accuracy - BoW')\n",
    "plt.bar(r2, acuraciatfidf, color='#6D5A24', width=barWidth, label='Accuracy - TF-IDF')\n",
    " \n",
    "# Adiciando legendas as barras\n",
    "plt.xlabel('Modelos')\n",
    "plt.xticks([r + barWidth for r in range(len(acuraciabow))], ['SVM', 'NB', 'AD'])\n",
    "plt.ylabel('Valores')\n",
    " \n",
    "# Criando a legenda e exibindo o gráfico\n",
    "plt.legend()\n",
    "plt.show()"
   ]
  },
  {
   "cell_type": "code",
   "execution_count": null,
   "id": "b383e4e1",
   "metadata": {},
   "outputs": [],
   "source": [
    "# Gráfico Barras Agrupadas - HammingLoss\n",
    "hamminglossbow = [0.09, 0.11, 0.13]\n",
    "hamminglosstfidf = [0.10, 0.15, 0.13]\n",
    " \n",
    "# Definindo a largura das barras\n",
    "barWidth = 0.25\n",
    "\n",
    "# Aumentando o gráfico\n",
    "plt.figure(figsize=(10,5))\n",
    "\n",
    "# Definindo a posição das barras\n",
    "r1 = np.arange(len(hamminglossbow))\n",
    "r2 = [x + barWidth for x in r1]\n",
    "\n",
    " \n",
    "# Criando as barras\n",
    "plt.bar(r1, hamminglossbow, color='#5A246D', width=barWidth, label='Hamming Loss - BoW')\n",
    "plt.bar(r2, hamminglosstfidf, color='#6495ED', width=barWidth, label='Hamming Loss - TF-IDF')\n",
    " \n",
    "# Adiciando legendas as barras\n",
    "plt.xlabel('Modelos')\n",
    "plt.xticks([r + barWidth for r in range(len(hamminglossbow))], ['SVM', 'NB', 'AD'])\n",
    "plt.ylabel('Valores')\n",
    " \n",
    "# Criando a legenda e exibindo o gráfico\n",
    "plt.legend()\n",
    "plt.show()"
   ]
  }
 ],
 "metadata": {
  "kernelspec": {
   "display_name": "Python 3 (ipykernel)",
   "language": "python",
   "name": "python3"
  },
  "language_info": {
   "codemirror_mode": {
    "name": "ipython",
    "version": 3
   },
   "file_extension": ".py",
   "mimetype": "text/x-python",
   "name": "python",
   "nbconvert_exporter": "python",
   "pygments_lexer": "ipython3",
   "version": "3.8.5"
  }
 },
 "nbformat": 4,
 "nbformat_minor": 5
}
