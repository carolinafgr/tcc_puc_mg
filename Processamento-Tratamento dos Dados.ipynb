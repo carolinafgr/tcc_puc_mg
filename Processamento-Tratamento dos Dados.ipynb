{
 "cells": [
  {
   "cell_type": "markdown",
   "id": "387d0201",
   "metadata": {},
   "source": [
    "# ANÁLISE DE SENTIMENTO EM REVIEWS DE TRÊS ESTRELAS: UMA PROPOSTA DE CLASSIFICAÇÃO MULTIRRÓTULO\n",
    "\n",
    "# Seção 5. Processamento/Tratamento dos Dados"
   ]
  },
  {
   "cell_type": "markdown",
   "id": "d9e20203",
   "metadata": {},
   "source": [
    "#### Importação da Biblioteca "
   ]
  },
  {
   "cell_type": "code",
   "execution_count": null,
   "id": "73c70572",
   "metadata": {},
   "outputs": [],
   "source": [
    "#Importa a Biblioteca Pandas\n",
    "import pandas as pd"
   ]
  },
  {
   "cell_type": "markdown",
   "id": "35565a74",
   "metadata": {},
   "source": [
    "#### Task 0: Carregar o dataset B2W-Reviews01\n"
   ]
  },
  {
   "cell_type": "code",
   "execution_count": null,
   "id": "ef83edc1",
   "metadata": {
    "scrolled": true
   },
   "outputs": [],
   "source": [
    "#Carrega o dataset\n",
    "data = pd.read_csv('https://raw.githubusercontent.com/americanas-tech/b2w-reviews01/main/B2W-Reviews01.csv')\n",
    "#Printa as primeiras cinco linhas do dataset\n",
    "data.head()"
   ]
  },
  {
   "cell_type": "code",
   "execution_count": null,
   "id": "0d0a6966",
   "metadata": {},
   "outputs": [],
   "source": [
    "#Printa informações gerais do Dataset\n",
    "data.info()"
   ]
  },
  {
   "cell_type": "markdown",
   "id": "b9cf9660",
   "metadata": {},
   "source": [
    "#### Task 01: Remover Atributos Indesejados"
   ]
  },
  {
   "cell_type": "code",
   "execution_count": null,
   "id": "5dad6a1b",
   "metadata": {},
   "outputs": [],
   "source": [
    "data = data.drop(columns=\n",
    "                 [\"submission_date\", \"product_id\", \"product_name\", \"product_brand\", \"site_category_lv2\", \"reviewer_state\"])"
   ]
  },
  {
   "cell_type": "markdown",
   "id": "3e478044",
   "metadata": {},
   "source": [
    "#### Task 02: Filtrar Avaliações de Três Estrelas"
   ]
  },
  {
   "cell_type": "code",
   "execution_count": null,
   "id": "acaf385e",
   "metadata": {},
   "outputs": [],
   "source": [
    "#Seleciona apenas as avaliações de nota 3\n",
    "tres_estrelas = [3]\n",
    "data= data[data.overall_rating.isin(tres_estrelas)]\n",
    "\n",
    "#Printa informações gerais do Dataset mais uma vez\n",
    "data.info()"
   ]
  },
  {
   "cell_type": "markdown",
   "id": "e1dd1c19",
   "metadata": {},
   "source": [
    "#### Task 03: Concatenar Colunas Review_Title + Review_Text"
   ]
  },
  {
   "cell_type": "code",
   "execution_count": null,
   "id": "00c22635",
   "metadata": {},
   "outputs": [],
   "source": [
    "#Cria uma nova coluna Review\n",
    "data[\"review\"] = data['review_title'] + \" \" + data['review_text']\n",
    "\n",
    "#Exclui as colunas Review_title e Review_text\n",
    "data= data.drop(columns=[\"review_title\", \"review_text\"])\n",
    "\n",
    "#Printa as primeiras cinco linhas do dataset\n",
    "data.head()"
   ]
  },
  {
   "cell_type": "markdown",
   "id": "4dace05d",
   "metadata": {},
   "source": [
    "#### Task 04: Remover Avaliações Vazias"
   ]
  },
  {
   "cell_type": "code",
   "execution_count": null,
   "id": "34a4e2e4",
   "metadata": {
    "scrolled": true
   },
   "outputs": [],
   "source": [
    "#Confere a quantidade de campos vazios por atributo\n",
    "data.isnull().sum()"
   ]
  },
  {
   "cell_type": "code",
   "execution_count": null,
   "id": "822cdf55",
   "metadata": {},
   "outputs": [],
   "source": [
    "#Remove as avaliações vazias\n",
    "data=data.dropna(subset=['review'])"
   ]
  },
  {
   "cell_type": "markdown",
   "id": "956178dc",
   "metadata": {},
   "source": [
    "#### Task 05: Remover Avaliações Duplicadas"
   ]
  },
  {
   "cell_type": "code",
   "execution_count": null,
   "id": "3c49d828",
   "metadata": {},
   "outputs": [],
   "source": [
    "#Confere a quantidade de avaliações duplicadas\n",
    "data.duplicated('review').sum()"
   ]
  },
  {
   "cell_type": "code",
   "execution_count": null,
   "id": "07b42c37",
   "metadata": {},
   "outputs": [],
   "source": [
    "#Remove as avaliações duplicadas\n",
    "data =data.drop_duplicates(subset=['review'], keep='first')\n",
    "\n"
   ]
  },
  {
   "cell_type": "markdown",
   "id": "d98480fd",
   "metadata": {},
   "source": [
    "#### Task 06: Adicionar a coluna para Anotação Manual"
   ]
  },
  {
   "cell_type": "code",
   "execution_count": null,
   "id": "9e33629b",
   "metadata": {},
   "outputs": [],
   "source": [
    "#Cria coluna vazia\n",
    "data= data.assign(anotação='')\n",
    "\n",
    "data.head()"
   ]
  },
  {
   "cell_type": "markdown",
   "id": "ddeba024",
   "metadata": {},
   "source": [
    "#### Task 07: Salvar Dataset de Três Estrelas  "
   ]
  },
  {
   "cell_type": "code",
   "execution_count": null,
   "id": "088f1d2a",
   "metadata": {},
   "outputs": [],
   "source": [
    "#Salva o dataset de três estrelas limpo\n",
    "data_limpo_três = data.to_csv(\"data_limpo_três.csv\")"
   ]
  },
  {
   "cell_type": "markdown",
   "id": "62d12aab",
   "metadata": {},
   "source": [
    "#### Task 08: Salvar Amostra para Anotação"
   ]
  },
  {
   "cell_type": "code",
   "execution_count": null,
   "id": "1e7cd766",
   "metadata": {},
   "outputs": [],
   "source": [
    "#Retira uma amostra aleatória simples de avaliações de três estrelas a partir do dataset limpo\n",
    "amostra_tres_anotacao = data.sample(n=5000, random_state=1)"
   ]
  },
  {
   "cell_type": "code",
   "execution_count": null,
   "id": "efede5b5",
   "metadata": {},
   "outputs": [],
   "source": [
    "#Salva a amostra\n",
    "amostra_tres_anotacao.to_csv('amostra_tres_anotacao.csv')"
   ]
  }
 ],
 "metadata": {
  "kernelspec": {
   "display_name": "Python 3 (ipykernel)",
   "language": "python",
   "name": "python3"
  },
  "language_info": {
   "codemirror_mode": {
    "name": "ipython",
    "version": 3
   },
   "file_extension": ".py",
   "mimetype": "text/x-python",
   "name": "python",
   "nbconvert_exporter": "python",
   "pygments_lexer": "ipython3",
   "version": "3.8.5"
  }
 },
 "nbformat": 4,
 "nbformat_minor": 5
}
