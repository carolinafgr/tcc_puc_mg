{
 "cells": [
  {
   "cell_type": "markdown",
   "id": "e8f7c4cc",
   "metadata": {},
   "source": [
    "### ANÁLISE DE SENTIMENTO EM REVIEWS DE TRÊS ESTRELAS: UMA PROPOSTA DE CLASSIFICAÇÃO MULTIRRÓTULO\n",
    "\n",
    "##### Seção 6. Análise e Exploração dos Dados"
   ]
  },
  {
   "cell_type": "markdown",
   "id": "c00ef1f0",
   "metadata": {},
   "source": [
    "#### Importação das Bibliotecas"
   ]
  },
  {
   "cell_type": "code",
   "execution_count": 1,
   "id": "09d9c1fa",
   "metadata": {
    "scrolled": true
   },
   "outputs": [],
   "source": [
    "#Importa a Biblioteca Pandas para Análise de Dados\n",
    "import pandas as pd\n",
    "\n",
    "#Importa Matplotlib e Seaborn para Plotagem e Visualização de Dados\n",
    "import matplotlib.pyplot as plt\n",
    "import seaborn as sns \n",
    "\n",
    "#Importa bibliotecas necessárias para Nuvem de Palavras\n",
    "from wordcloud import WordCloud, STOPWORDS, ImageColorGenerator\n",
    "from PIL import Image\n",
    "import numpy as np"
   ]
  },
  {
   "cell_type": "markdown",
   "id": "b9e77ddb",
   "metadata": {},
   "source": [
    "#### Task 0: Carregar o dataset B2W-Reviews01-Anotado\n"
   ]
  },
  {
   "cell_type": "code",
   "execution_count": 2,
   "id": "de358308",
   "metadata": {},
   "outputs": [
    {
     "data": {
      "text/html": [
       "<div>\n",
       "<style scoped>\n",
       "    .dataframe tbody tr th:only-of-type {\n",
       "        vertical-align: middle;\n",
       "    }\n",
       "\n",
       "    .dataframe tbody tr th {\n",
       "        vertical-align: top;\n",
       "    }\n",
       "\n",
       "    .dataframe thead th {\n",
       "        text-align: right;\n",
       "    }\n",
       "</style>\n",
       "<table border=\"1\" class=\"dataframe\">\n",
       "  <thead>\n",
       "    <tr style=\"text-align: right;\">\n",
       "      <th></th>\n",
       "      <th>reviewer_id</th>\n",
       "      <th>review</th>\n",
       "      <th>anotacao</th>\n",
       "      <th>recommend_to_a_friend</th>\n",
       "      <th>site_category_lv1</th>\n",
       "      <th>reviewer_birth_year</th>\n",
       "      <th>reviewer_gender</th>\n",
       "      <th>overall_rating</th>\n",
       "    </tr>\n",
       "  </thead>\n",
       "  <tbody>\n",
       "    <tr>\n",
       "      <th>0</th>\n",
       "      <td>c2b3ebfc9238e1462555a7e36539a078c6fb85e5438e39...</td>\n",
       "      <td>Agilidade e configuração Produto bom,imagem e ...</td>\n",
       "      <td>positivo + negativo</td>\n",
       "      <td>Yes</td>\n",
       "      <td>Informática</td>\n",
       "      <td>1899.0</td>\n",
       "      <td>M</td>\n",
       "      <td>3</td>\n",
       "    </tr>\n",
       "    <tr>\n",
       "      <th>1</th>\n",
       "      <td>1345ab31c9fa498aac8dd78b1c1069a056f237e20fdba7...</td>\n",
       "      <td>Atende as expectativas Tinha outra fritadeira ...</td>\n",
       "      <td>positivo + negativo</td>\n",
       "      <td>Yes</td>\n",
       "      <td>Eletroportáteis</td>\n",
       "      <td>1900.0</td>\n",
       "      <td>F</td>\n",
       "      <td>3</td>\n",
       "    </tr>\n",
       "    <tr>\n",
       "      <th>2</th>\n",
       "      <td>b68330385cc203b6e8249f796d592ae6173df1adda5ae3...</td>\n",
       "      <td>Bom filme! Filme para assistir e curtir com a ...</td>\n",
       "      <td>positivo + negativo</td>\n",
       "      <td>Yes</td>\n",
       "      <td>Filmes e Séries</td>\n",
       "      <td>1906.0</td>\n",
       "      <td>M</td>\n",
       "      <td>3</td>\n",
       "    </tr>\n",
       "    <tr>\n",
       "      <th>3</th>\n",
       "      <td>ed921e3d758d33b09938bb46d932c3cdbef9f821b68a0e...</td>\n",
       "      <td>Produto com bom acabamento Recomendo o produto...</td>\n",
       "      <td>positivo</td>\n",
       "      <td>Yes</td>\n",
       "      <td>Móveis</td>\n",
       "      <td>1908.0</td>\n",
       "      <td>M</td>\n",
       "      <td>3</td>\n",
       "    </tr>\n",
       "    <tr>\n",
       "      <th>4</th>\n",
       "      <td>dd8279ea157b3802bb5b68a2fb647595178e941f889386...</td>\n",
       "      <td>pelo preço ta  otimo 3 calças 30 reais show de...</td>\n",
       "      <td>positivo</td>\n",
       "      <td>Yes</td>\n",
       "      <td>Moda</td>\n",
       "      <td>1924.0</td>\n",
       "      <td>F</td>\n",
       "      <td>3</td>\n",
       "    </tr>\n",
       "  </tbody>\n",
       "</table>\n",
       "</div>"
      ],
      "text/plain": [
       "                                         reviewer_id  \\\n",
       "0  c2b3ebfc9238e1462555a7e36539a078c6fb85e5438e39...   \n",
       "1  1345ab31c9fa498aac8dd78b1c1069a056f237e20fdba7...   \n",
       "2  b68330385cc203b6e8249f796d592ae6173df1adda5ae3...   \n",
       "3  ed921e3d758d33b09938bb46d932c3cdbef9f821b68a0e...   \n",
       "4  dd8279ea157b3802bb5b68a2fb647595178e941f889386...   \n",
       "\n",
       "                                              review             anotacao  \\\n",
       "0  Agilidade e configuração Produto bom,imagem e ...  positivo + negativo   \n",
       "1  Atende as expectativas Tinha outra fritadeira ...  positivo + negativo   \n",
       "2  Bom filme! Filme para assistir e curtir com a ...  positivo + negativo   \n",
       "3  Produto com bom acabamento Recomendo o produto...             positivo   \n",
       "4  pelo preço ta  otimo 3 calças 30 reais show de...             positivo   \n",
       "\n",
       "  recommend_to_a_friend site_category_lv1  reviewer_birth_year  \\\n",
       "0                   Yes       Informática               1899.0   \n",
       "1                   Yes   Eletroportáteis               1900.0   \n",
       "2                   Yes   Filmes e Séries               1906.0   \n",
       "3                   Yes            Móveis               1908.0   \n",
       "4                   Yes              Moda               1924.0   \n",
       "\n",
       "  reviewer_gender  overall_rating  \n",
       "0               M               3  \n",
       "1               F               3  \n",
       "2               M               3  \n",
       "3               M               3  \n",
       "4               F               3  "
      ]
     },
     "execution_count": 2,
     "metadata": {},
     "output_type": "execute_result"
    }
   ],
   "source": [
    "#Carrega o dataset anotado\n",
    "data = pd.read_csv('b2w-reviews-01-anotado.csv')\n",
    "\n",
    "#Printa as primeiras cinco linhas do dataset\n",
    "data.head()"
   ]
  },
  {
   "cell_type": "code",
   "execution_count": null,
   "id": "8dd1ae94",
   "metadata": {},
   "outputs": [],
   "source": [
    "#Printa informações gerais do dataset anotado\n",
    "data.info()"
   ]
  },
  {
   "cell_type": "markdown",
   "id": "8f32f671",
   "metadata": {},
   "source": [
    "#### Task 1: Checar a distribuição das Classes de Sentimento"
   ]
  },
  {
   "cell_type": "code",
   "execution_count": null,
   "id": "5922825a",
   "metadata": {},
   "outputs": [],
   "source": [
    "#Checa a distribuição das classes de sentimento\n",
    "data.anotacao.value_counts().to_frame()"
   ]
  },
  {
   "cell_type": "code",
   "execution_count": null,
   "id": "06cab8f8",
   "metadata": {},
   "outputs": [],
   "source": [
    "#Plota a distribuição das classes de sentimento em um gráfico de barras \n",
    "data.anotacao.value_counts().plot(kind=\"bar\", color=[\"orange\", \"green\",\"red\",\"yellow\"]);\n",
    "\n",
    "#Adiciona informações ao gráfico\n",
    "plt.title(\"Distribuição das Classes de Sentimento\")\n",
    "plt.ylabel(\"Quantidade\")\n",
    "plt.xlabel(\"Classes de Sentimento\")\n",
    "plt.xticks(rotation=0);"
   ]
  },
  {
   "cell_type": "markdown",
   "id": "d1b7cd67",
   "metadata": {},
   "source": [
    "#### Task 2: Analisar o atributo Recomendação a um Amigo "
   ]
  },
  {
   "cell_type": "code",
   "execution_count": null,
   "id": "32180f0b",
   "metadata": {},
   "outputs": [],
   "source": [
    "#Quantifica o atributo Recommend to a Friend\n",
    "data.recommend_to_a_friend.value_counts().to_frame()"
   ]
  },
  {
   "cell_type": "code",
   "execution_count": null,
   "id": "ef4f7a0e",
   "metadata": {},
   "outputs": [],
   "source": [
    "#Plota a distribuição de Recomendação a um Amigo em um gráfico de barras \n",
    "data.recommend_to_a_friend.value_counts().plot(kind=\"bar\", color=[\"green\", \"red\"]);\n",
    "\n",
    "#Adiciona informações ao gráfico\n",
    "plt.title(\"Distribuição - Recomendação a um Amigo\")\n",
    "plt.ylabel(\"Quantidade\")\n",
    "plt.xlabel(\"Classes de Recomendação\")\n",
    "plt.xticks(rotation=0);"
   ]
  },
  {
   "cell_type": "code",
   "execution_count": null,
   "id": "d6f75380",
   "metadata": {},
   "outputs": [],
   "source": [
    "#Cruza Recomendação a um Amigo com a distribuição de Sentimento\n",
    "pd.crosstab(data.anotacao, data.recommend_to_a_friend)"
   ]
  },
  {
   "cell_type": "code",
   "execution_count": null,
   "id": "9918bc96",
   "metadata": {},
   "outputs": [],
   "source": [
    "# Cria um plot para comparação entre Recomendação x Sentimento\n",
    "pd.crosstab(data.anotacao, data.recommend_to_a_friend).plot(kind=\"bar\", figsize=(10,6), color=[\"red\", \"green\"])\n",
    "\n",
    "#Adiciona informações ao gráfico\n",
    "plt.title(\"Recomendação a um Amigo X Sentimento do Cliente\")\n",
    "plt.ylabel(\"Quantidade\")\n",
    "plt.xlabel(\"Classes de Sentimento\")\n",
    "plt.legend([\"Não (No)\", \"Sim (Yes)\"])\n",
    "plt.xticks(rotation=0);"
   ]
  },
  {
   "cell_type": "markdown",
   "id": "69183e21",
   "metadata": {},
   "source": [
    "#### Task 3: Analisar o atributo Gênero"
   ]
  },
  {
   "cell_type": "code",
   "execution_count": null,
   "id": "5d1507f3",
   "metadata": {},
   "outputs": [],
   "source": [
    "#Quantifica o atributo Reviewer Gender\n",
    "data.reviewer_gender.value_counts().to_frame()"
   ]
  },
  {
   "cell_type": "code",
   "execution_count": null,
   "id": "c227d1fe",
   "metadata": {},
   "outputs": [],
   "source": [
    "#Cruza Gênero com a distribuição de Sentimento\n",
    "pd.crosstab(data.anotacao, data.reviewer_gender)"
   ]
  },
  {
   "cell_type": "code",
   "execution_count": null,
   "id": "6b43de5a",
   "metadata": {},
   "outputs": [],
   "source": [
    "# Cria um plot para comparação entre Gênero x Sentimento\n",
    "pd.crosstab(data.anotacao, data.reviewer_gender).plot(kind=\"bar\", figsize=(10,6), color=[\"pink\", \"blue\"])\n",
    "\n",
    "#Adiciona informações ao gráfico\n",
    "plt.title(\"Gênero X Sentimento dos Clientes\")\n",
    "plt.ylabel(\"Quantidade\")\n",
    "plt.xlabel(\"Classes de Sentimento\")\n",
    "plt.legend([\"Mulher (Female)\",\"Homem (Male)\"])\n",
    "plt.xticks(rotation=0); "
   ]
  },
  {
   "cell_type": "markdown",
   "id": "6fb222d4",
   "metadata": {},
   "source": [
    "#### Task 3: Analisar o atributo Idade"
   ]
  },
  {
   "cell_type": "code",
   "execution_count": null,
   "id": "83d2638a",
   "metadata": {},
   "outputs": [],
   "source": [
    "#Quantifica o atributo Reviewer Birth Year\n",
    "data.reviewer_birth_year.value_counts().to_frame()"
   ]
  },
  {
   "cell_type": "code",
   "execution_count": null,
   "id": "0f30e33b",
   "metadata": {},
   "outputs": [],
   "source": [
    "#Checa o ano de nascimento do Cliente mais novo\n",
    "data.reviewer_birth_year.max()"
   ]
  },
  {
   "cell_type": "code",
   "execution_count": null,
   "id": "4f55de43",
   "metadata": {},
   "outputs": [],
   "source": [
    "#Checa o ano de nascimento do Cliente mais velho\n",
    "data.reviewer_birth_year.min()"
   ]
  },
  {
   "cell_type": "code",
   "execution_count": null,
   "id": "7e253ed5",
   "metadata": {},
   "outputs": [],
   "source": [
    "#Agrupa os Clientes da Geração Z - Faixa Etária escolhida para Exploração dos Dados\n",
    "GenZ =data.loc[data[\"reviewer_birth_year\"].between(1995, 2010)]"
   ]
  },
  {
   "cell_type": "code",
   "execution_count": null,
   "id": "41c6bdcc",
   "metadata": {},
   "outputs": [],
   "source": [
    "#Checa quantidade de reviews pertencentes à Geração Z\n",
    "len(GenZ)"
   ]
  },
  {
   "cell_type": "code",
   "execution_count": null,
   "id": "0f558ed6",
   "metadata": {},
   "outputs": [],
   "source": [
    "#Checa a distribuição das classes de Sentimento da Geração Z por ano de nascimento\n",
    "pd.crosstab(GenZ.anotacao, GenZ.reviewer_birth_year)"
   ]
  },
  {
   "cell_type": "code",
   "execution_count": null,
   "id": "73af0d5e",
   "metadata": {},
   "outputs": [],
   "source": [
    "#Plota a distribuição das classes de Sentimento da GenZ em um gráfico de barras\n",
    "GenZ.anotacao.value_counts().plot(kind=\"bar\",color=['orange','green','yellow','red']);\n",
    "\n",
    "#Adiciona informações ao gráfico\n",
    "plt.title(\"Distribuição das Classes de Sentimento GenZ - Geral\")\n",
    "plt.ylabel(\"Quantidade\")\n",
    "plt.xlabel(\"Classes de Sentimento\")\n",
    "plt.xticks(rotation=0);"
   ]
  },
  {
   "cell_type": "markdown",
   "id": "b7f2ebf7",
   "metadata": {},
   "source": [
    "#### Task 3: Analisar o atributo Categoria de Produto\n"
   ]
  },
  {
   "cell_type": "code",
   "execution_count": null,
   "id": "c067b7a5",
   "metadata": {
    "scrolled": true
   },
   "outputs": [],
   "source": [
    "#Quantifica o atributo Site Category em relação à GenZ\n",
    "GenZ.site_category_lv1.value_counts().to_frame()"
   ]
  },
  {
   "cell_type": "code",
   "execution_count": null,
   "id": "9606a98f",
   "metadata": {
    "scrolled": true
   },
   "outputs": [],
   "source": [
    "#Plota a distribuição das classes de Sentimento da categoria mais popular - Gen Z \n",
    "top_dpt_genz = GenZ[GenZ['site_category_lv1']=='Celulares e Smartphones']\n",
    "top_dpt_genz.anotacao.value_counts().plot(kind=\"bar\", color=['orange','green','yellow','red']);\n",
    "\n",
    "#Adiciona informações ao gráfico\n",
    "plt.title(\"Distribuição das Classes de Sentimento GenZ - Celulares e Smartphones\")\n",
    "plt.ylabel(\"Quantidade\")\n",
    "plt.xlabel(\"Classes de Sentimento\")\n",
    "plt.xticks(rotation=0);"
   ]
  },
  {
   "cell_type": "code",
   "execution_count": null,
   "id": "ce52074e",
   "metadata": {},
   "outputs": [],
   "source": [
    "#Plota a distribuição das classes de Sentimento da segunda categoria mais popular - Gen Z \n",
    "top2_dpt_genz = GenZ[GenZ['site_category_lv1']=='Móveis']\n",
    "top2_dpt_genz.anotacao.value_counts().plot(kind=\"bar\", color=['orange','green','yellow','red']);\n",
    "\n",
    "#Adiciona informações ao gráfico\n",
    "plt.title(\"Distribuição das Classes de Sentimento Gen Z - Móveis\")\n",
    "plt.ylabel(\"Quantidade\")\n",
    "plt.xlabel(\"Classes de Sentimento\")\n",
    "plt.xticks(rotation=0);"
   ]
  },
  {
   "cell_type": "markdown",
   "id": "e29a1b86",
   "metadata": {},
   "source": [
    "#### Task 05: Construir Nuvem de Palavras "
   ]
  },
  {
   "cell_type": "code",
   "execution_count": null,
   "id": "59c7f54f",
   "metadata": {},
   "outputs": [],
   "source": [
    "#Constrói uma nuvem de palavra considerando o dataset inteiro\n",
    "\n",
    "#Seleciona os textos da coluna Review e agrupa em uma lista\n",
    "textos_reviews = data['review']\n",
    "lista_geral = \" \".join(textos_reviews)\n",
    "\n",
    "#Importa stopwords em português\n",
    "stopwords = open('../Documents/tcc/stopwords.txt').read()\n",
    "\n",
    "#Transforma as stopwords em um lista\n",
    "lista_stopwords = stopwords.split(' \\n')\n",
    "\n",
    "#Inicializa uma Nuvem de Palavra\n",
    "wordcloud_geral = WordCloud(stopwords=lista_stopwords,\n",
    "                      background_color = 'white', #cor de fundo\n",
    "                      width = 1000, #largura\n",
    "                      height = 500) #altura\n",
    "               \n",
    "#Gera uma Nuvem de Palavra\n",
    "wordcloud_geral.generate(lista_geral)\n",
    "plt.figure(figsize = (15, 7)) #tamanho do gráfico\n",
    "plt.imshow(wordcloud_geral, interpolation = 'bilinear') #plotagem da nuvem de palavras\n",
    "plt.axis('off') #remove as bordas\n",
    "plt.show() #mostra a nuvem de palavra"
   ]
  },
  {
   "cell_type": "code",
   "execution_count": null,
   "id": "301f37c2",
   "metadata": {},
   "outputs": [],
   "source": [
    "#Constrói uma nuvem de palavra considerando as reviews positivas\n",
    "\n",
    "#Seleciona apenas as reviews positivas e agrupa em uma lista\n",
    "nuvem_positivas = data[data['anotacao']=='positivo']\n",
    "textos_positivas = nuvem_positivas['review']\n",
    "lista_positivas = \" \".join(textos_positivas)\n",
    "\n",
    "#Inicializa uma Nuvem de Palavra\n",
    "wordcloud_positivas = WordCloud(stopwords=lista_stopwords,\n",
    "                      background_color = 'white', #cor de fundo\n",
    "                      width = 1000, #largura\n",
    "                      height = 500) #altura\n",
    "               \n",
    "#Gera uma Nuvem de Palavra\n",
    "wordcloud_positivas.generate(lista_positivas)\n",
    "plt.figure(figsize = (15, 7)) #tamanho do gráfico\n",
    "plt.imshow(wordcloud_positivas, interpolation = 'bilinear') #plotagem da nuvem de palavras\n",
    "plt.axis('off') #remove as bordas\n",
    "plt.show() #mostra a nuvem de palavra"
   ]
  },
  {
   "cell_type": "code",
   "execution_count": null,
   "id": "2eeaae2a",
   "metadata": {},
   "outputs": [],
   "source": [
    "#Constrói uma nuvem de palavra considerando as reviews negativas\n",
    "\n",
    "#Seleciona apenas as reviews negativas e agrupa em uma lista\n",
    "nuvem_negativas = data[data['anotacao']=='negativo']\n",
    "textos_negativas = nuvem_negativas['review']\n",
    "lista_negativas = \" \".join(textos_negativas)\n",
    "\n",
    "#Inicializa uma Nuvem de Palavra\n",
    "wordcloud_negativas = WordCloud(stopwords=lista_stopwords,\n",
    "                      background_color = 'white', #cor de fundo\n",
    "                      width = 1000, #largura\n",
    "                      height = 500) #altura\n",
    "               \n",
    "#Gera uma Nuvem de Palavra\n",
    "wordcloud_negativas.generate(lista_negativas)\n",
    "plt.figure(figsize = (15, 7)) #tamanho do gráfico\n",
    "plt.imshow(wordcloud_negativas, interpolation = 'bilinear') #plotagem da nuvem de palavras\n",
    "plt.axis('off') #remove as bordas\n",
    "plt.show() #mostra a nuvem de palavra"
   ]
  },
  {
   "cell_type": "code",
   "execution_count": null,
   "id": "a3c15e71",
   "metadata": {},
   "outputs": [],
   "source": [
    "#Constrói uma nuvem de palavra considerando as reviews com dupla polaridade\n",
    "\n",
    "#Seleciona apenas as reviews de dupla polaridade e agrupa em uma lista\n",
    "nuvem_duplas = data[data['anotacao']=='positivo + negativo']\n",
    "textos_duplas = nuvem_duplas['review']\n",
    "lista_duplas = \" \".join(textos_duplas)\n",
    "\n",
    "#Inicializa uma Nuvem de Palavra\n",
    "wordcloud_duplas = WordCloud(stopwords=lista_stopwords,\n",
    "                      background_color = 'white', #cor de fundo\n",
    "                      width = 1000, #largura\n",
    "                      height = 500) #altura\n",
    "               \n",
    "#Gera uma Nuvem de Palavra\n",
    "wordcloud_duplas.generate(lista_duplas)\n",
    "plt.figure(figsize = (15, 7)) #tamanho do gráfico\n",
    "plt.imshow(wordcloud_duplas, interpolation = 'bilinear') #plotagem da nuvem de palavras\n",
    "plt.axis('off') #remove as bordas\n",
    "plt.show() #mostra a nuvem de palavra"
   ]
  }
 ],
 "metadata": {
  "kernelspec": {
   "display_name": "Python 3 (ipykernel)",
   "language": "python",
   "name": "python3"
  },
  "language_info": {
   "codemirror_mode": {
    "name": "ipython",
    "version": 3
   },
   "file_extension": ".py",
   "mimetype": "text/x-python",
   "name": "python",
   "nbconvert_exporter": "python",
   "pygments_lexer": "ipython3",
   "version": "3.8.5"
  }
 },
 "nbformat": 4,
 "nbformat_minor": 5
}
