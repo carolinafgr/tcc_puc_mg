{
 "cells": [
  {
   "cell_type": "markdown",
   "id": "9cc49c83",
   "metadata": {},
   "source": [
    "### ANÁLISE DE SENTIMENTO EM REVIEWS DE TRÊS ESTRELAS: UMA PROPOSTA DE CLASSIFICAÇÃO MULTIRRÓTULO\n",
    "\n",
    "##### Seção 7. Preparação dos Dados para os Modelos de Aprendizado de Máquina"
   ]
  },
  {
   "cell_type": "markdown",
   "id": "c3a2af43",
   "metadata": {},
   "source": [
    "#### Importação das Bibliotecas"
   ]
  },
  {
   "cell_type": "code",
   "execution_count": 1,
   "id": "817da835",
   "metadata": {},
   "outputs": [
    {
     "name": "stderr",
     "output_type": "stream",
     "text": [
      "[nltk_data] Downloading package stopwords to\n",
      "[nltk_data]     C:\\Users\\carolina.gadelha\\AppData\\Roaming\\nltk_data...\n",
      "[nltk_data]   Package stopwords is already up-to-date!\n"
     ]
    },
    {
     "name": "stdout",
     "output_type": "stream",
     "text": [
      "✔ Download and installation successful\n",
      "You can now load the package via spacy.load('pt_core_news_sm')\n"
     ]
    }
   ],
   "source": [
    "import pandas as pd\n",
    "import re\n",
    "import nltk\n",
    "import numpy as np\n",
    "nltk.download('stopwords')\n",
    "from nltk.corpus import stopwords\n",
    "import spacy\n",
    "import spacy.cli\n",
    "spacy.cli.download(\"pt_core_news_sm\")\n",
    "import pt_core_news_sm\n",
    "spc_pt = pt_core_news_sm.load()\n",
    "from sklearn.feature_extraction.text import CountVectorizer\n",
    "from sklearn.feature_extraction.text import TfidfVectorizer\n",
    "from sklearn.model_selection import train_test_split"
   ]
  },
  {
   "cell_type": "markdown",
   "id": "f36f0f39",
   "metadata": {},
   "source": [
    "#### Task 0: Carregar o dataset B2W-Reviews01-Anotado"
   ]
  },
  {
   "cell_type": "code",
   "execution_count": 2,
   "id": "ef5041f5",
   "metadata": {},
   "outputs": [],
   "source": [
    "#Carrega o dataset anotado\n",
    "data = pd.read_csv('../Documents/TCC/b2w-reviews-01-anotado.csv')"
   ]
  },
  {
   "cell_type": "markdown",
   "id": "6a15c8ec",
   "metadata": {},
   "source": [
    "#### Task 1: Eliminar Reviews Neutras"
   ]
  },
  {
   "cell_type": "code",
   "execution_count": 3,
   "id": "7e2d5fe7",
   "metadata": {},
   "outputs": [],
   "source": [
    "data = data[data['anotacao'] != 'neutro']\n",
    "data.reset_index(drop=True, inplace=True)"
   ]
  },
  {
   "cell_type": "code",
   "execution_count": 4,
   "id": "6797d77a",
   "metadata": {},
   "outputs": [
    {
     "data": {
      "text/plain": [
       "positivo  negativo    2971\n",
       "positivo              1283\n",
       "negativo               525\n",
       "Name: anotacao, dtype: int64"
      ]
     },
     "execution_count": 4,
     "metadata": {},
     "output_type": "execute_result"
    }
   ],
   "source": [
    "data.anotacao.value_counts()"
   ]
  },
  {
   "cell_type": "markdown",
   "id": "06f7fc15",
   "metadata": {},
   "source": [
    "#### Task 2: Preparação dos Dados para Modelos"
   ]
  },
  {
   "cell_type": "code",
   "execution_count": 5,
   "id": "9bf02ae2",
   "metadata": {},
   "outputs": [],
   "source": [
    "#Remove da lista de stopwords palavras importantes\n",
    "stopwords_pt = stopwords.words(\"portuguese\")\n",
    "stopwords_pt = [i for i in stopwords_pt if i not in [\"não\", \"nenhum\", \"nada\", \"jamais\", \"nunca\", \"nem\"]]\n",
    "\n",
    "\n",
    "def limpa_texto(texto):\n",
    "    texto = texto.lower() #Transforma texto em minúsculo\n",
    "    texto = re.sub(r\"[\\W\\d_]+\", \" \", texto) #Filtra apenas letras\n",
    "    texto = [pal for pal in texto.split() if pal not in stopwords_pt] #Remove stopwords\n",
    "    spc_texto = spc_pt(\" \".join(texto))\n",
    "    tokens = [word.lemma_ if word.lemma_ != \"-PRON-\" else word.lower_ for word in spc_texto] #Lemmatiza\n",
    "\n",
    "    return \" \".join(tokens)\n",
    "\n",
    "#Aplica função na coluna Review\n",
    "data['review'] = data['review'].apply(limpa_texto)\n"
   ]
  },
  {
   "cell_type": "markdown",
   "id": "6071c02b",
   "metadata": {},
   "source": [
    "#### Task 3: Feature extraction"
   ]
  },
  {
   "cell_type": "markdown",
   "id": "3c6bce52",
   "metadata": {},
   "source": [
    "Com Bag of Words"
   ]
  },
  {
   "cell_type": "code",
   "execution_count": 6,
   "id": "3e7370a0",
   "metadata": {},
   "outputs": [
    {
     "data": {
      "text/plain": [
       "array([[0, 0, 0, ..., 0, 0, 0],\n",
       "       [0, 0, 0, ..., 0, 0, 0],\n",
       "       [0, 0, 0, ..., 0, 0, 0],\n",
       "       ...,\n",
       "       [0, 0, 0, ..., 0, 0, 0],\n",
       "       [0, 0, 0, ..., 0, 0, 0],\n",
       "       [0, 0, 0, ..., 0, 0, 0]], dtype=int64)"
      ]
     },
     "execution_count": 6,
     "metadata": {},
     "output_type": "execute_result"
    }
   ],
   "source": [
    "# Instancia o CountVectorizer\n",
    "vectorizer = CountVectorizer(binary=True)\n",
    "\n",
    "# Vetoriza a coluna Review\n",
    "texto = data['review']\n",
    "X_bow = vectorizer.fit_transform(texto)\n",
    "\n",
    "#Transforma o resultado em Array\n",
    "X_bow.toarray()"
   ]
  },
  {
   "cell_type": "markdown",
   "id": "395d557b",
   "metadata": {},
   "source": [
    "Com TF-IDF"
   ]
  },
  {
   "cell_type": "code",
   "execution_count": 7,
   "id": "6c3a54a1",
   "metadata": {},
   "outputs": [
    {
     "name": "stdout",
     "output_type": "stream",
     "text": [
      "  (0, 452)\t0.38296472883147425\n",
      "  (0, 800)\t0.20241106165447742\n",
      "  (0, 773)\t0.3236313282657797\n",
      "  (0, 439)\t0.22820142570212948\n",
      "  (0, 980)\t0.17255173514950065\n",
      "  (0, 4468)\t0.396589936528068\n",
      "  (0, 4572)\t0.2588270025734173\n",
      "  (0, 2942)\t0.20650831523815913\n",
      "  (0, 2764)\t0.2339493225690672\n",
      "  (0, 4110)\t0.23051222704853883\n",
      "  (0, 1868)\t0.21525769785794982\n",
      "  (0, 476)\t0.07313409329178633\n",
      "  (0, 3178)\t0.07884290235156338\n",
      "  (0, 844)\t0.27889970674955683\n",
      "  (0, 95)\t0.3395673373087828\n",
      "  (1, 98)\t0.18465659203197232\n",
      "  (1, 3969)\t0.18641184799664837\n",
      "  (1, 4274)\t0.2828496912062698\n",
      "  (1, 4318)\t0.17216637862563597\n",
      "  (1, 998)\t0.16113141204735434\n",
      "  (1, 4064)\t0.3428957586272838\n",
      "  (1, 4122)\t0.32197760106459355\n",
      "  (1, 123)\t0.3428957586272838\n",
      "  (1, 1556)\t0.22935907399355002\n",
      "  (1, 3957)\t0.2447026594529863\n",
      "  :\t:\n",
      "  (4776, 1605)\t0.1904493852418518\n",
      "  (4776, 138)\t0.12441186355061533\n",
      "  (4776, 3937)\t0.22620230027385466\n",
      "  (4776, 1649)\t0.15969146216534708\n",
      "  (4776, 2448)\t0.0575783480004296\n",
      "  (4776, 3178)\t0.050032083500091945\n",
      "  (4777, 1551)\t0.47596005823698073\n",
      "  (4777, 3878)\t0.4507506237934006\n",
      "  (4777, 1015)\t0.30776339570180217\n",
      "  (4777, 2741)\t0.2463163472221695\n",
      "  (4777, 4772)\t0.2828685020737668\n",
      "  (4777, 1591)\t0.22854059053926778\n",
      "  (4777, 4814)\t0.20059392652029578\n",
      "  (4777, 4572)\t0.3676768213535877\n",
      "  (4777, 4110)\t0.3274542535425856\n",
      "  (4778, 2426)\t0.5902874355961405\n",
      "  (4778, 1532)\t0.28151234562044697\n",
      "  (4778, 2482)\t0.21773287838035105\n",
      "  (4778, 3435)\t0.23783162053076062\n",
      "  (4778, 323)\t0.2718407331438091\n",
      "  (4778, 4373)\t0.18830040700340225\n",
      "  (4778, 1993)\t0.17969615720292761\n",
      "  (4778, 1296)\t0.3531812985585794\n",
      "  (4778, 1409)\t0.1231821769522218\n",
      "  (4778, 4723)\t0.43218519390534804\n"
     ]
    }
   ],
   "source": [
    "# Instancia o TfidfVectorizer\n",
    "tfidf_vect = TfidfVectorizer(max_features=5000)\n",
    "\n",
    "# Vetoriza o texto\n",
    "X_tfidf = tfidf_vect.fit_transform(texto)\n",
    "\n",
    "print(X_tfidf)"
   ]
  },
  {
   "cell_type": "markdown",
   "id": "fa583c90",
   "metadata": {},
   "source": [
    "#### Task 4: Binarizar as Classes de Sentimento"
   ]
  },
  {
   "cell_type": "code",
   "execution_count": 8,
   "id": "6d4f6292",
   "metadata": {
    "scrolled": false
   },
   "outputs": [
    {
     "data": {
      "text/html": [
       "<div>\n",
       "<style scoped>\n",
       "    .dataframe tbody tr th:only-of-type {\n",
       "        vertical-align: middle;\n",
       "    }\n",
       "\n",
       "    .dataframe tbody tr th {\n",
       "        vertical-align: top;\n",
       "    }\n",
       "\n",
       "    .dataframe thead th {\n",
       "        text-align: right;\n",
       "    }\n",
       "</style>\n",
       "<table border=\"1\" class=\"dataframe\">\n",
       "  <thead>\n",
       "    <tr style=\"text-align: right;\">\n",
       "      <th></th>\n",
       "      <th>reviewer_id</th>\n",
       "      <th>positivo</th>\n",
       "      <th>negativo</th>\n",
       "      <th>review</th>\n",
       "      <th>anotacao</th>\n",
       "      <th>recommend_to_a_friend</th>\n",
       "      <th>site_category_lv1</th>\n",
       "      <th>reviewer_birth_year</th>\n",
       "      <th>reviewer_gender</th>\n",
       "      <th>overall_rating</th>\n",
       "    </tr>\n",
       "  </thead>\n",
       "  <tbody>\n",
       "    <tr>\n",
       "      <th>0</th>\n",
       "      <td>c2b3ebfc9238e1462555a7e36539a078c6fb85e5438e39...</td>\n",
       "      <td>1</td>\n",
       "      <td>1</td>\n",
       "      <td>agilidade configuração produto bom imagem som ...</td>\n",
       "      <td>positivo  negativo</td>\n",
       "      <td>Yes</td>\n",
       "      <td>Informática</td>\n",
       "      <td>1899.0</td>\n",
       "      <td>M</td>\n",
       "      <td>3</td>\n",
       "    </tr>\n",
       "    <tr>\n",
       "      <th>1</th>\n",
       "      <td>1345ab31c9fa498aac8dd78b1c1069a056f237e20fdba7...</td>\n",
       "      <td>1</td>\n",
       "      <td>1</td>\n",
       "      <td>atender expectativa outro fritadeira outro mar...</td>\n",
       "      <td>positivo  negativo</td>\n",
       "      <td>Yes</td>\n",
       "      <td>Eletroportáteis</td>\n",
       "      <td>1900.0</td>\n",
       "      <td>F</td>\n",
       "      <td>3</td>\n",
       "    </tr>\n",
       "    <tr>\n",
       "      <th>2</th>\n",
       "      <td>b68330385cc203b6e8249f796d592ae6173df1adda5ae3...</td>\n",
       "      <td>1</td>\n",
       "      <td>1</td>\n",
       "      <td>bom filme filme assistir curtir famílio luta v...</td>\n",
       "      <td>positivo  negativo</td>\n",
       "      <td>Yes</td>\n",
       "      <td>Filmes e Séries</td>\n",
       "      <td>1906.0</td>\n",
       "      <td>M</td>\n",
       "      <td>3</td>\n",
       "    </tr>\n",
       "    <tr>\n",
       "      <th>3</th>\n",
       "      <td>ed921e3d758d33b09938bb46d932c3cdbef9f821b68a0e...</td>\n",
       "      <td>1</td>\n",
       "      <td>0</td>\n",
       "      <td>produto bom acabamento recomendar produto pois...</td>\n",
       "      <td>positivo</td>\n",
       "      <td>Yes</td>\n",
       "      <td>Móveis</td>\n",
       "      <td>1908.0</td>\n",
       "      <td>M</td>\n",
       "      <td>3</td>\n",
       "    </tr>\n",
       "    <tr>\n",
       "      <th>4</th>\n",
       "      <td>dd8279ea157b3802bb5b68a2fb647595178e941f889386...</td>\n",
       "      <td>1</td>\n",
       "      <td>0</td>\n",
       "      <td>preço ta otimo calça real show bola bom econom...</td>\n",
       "      <td>positivo</td>\n",
       "      <td>Yes</td>\n",
       "      <td>Moda</td>\n",
       "      <td>1924.0</td>\n",
       "      <td>F</td>\n",
       "      <td>3</td>\n",
       "    </tr>\n",
       "  </tbody>\n",
       "</table>\n",
       "</div>"
      ],
      "text/plain": [
       "                                         reviewer_id  positivo  negativo  \\\n",
       "0  c2b3ebfc9238e1462555a7e36539a078c6fb85e5438e39...         1         1   \n",
       "1  1345ab31c9fa498aac8dd78b1c1069a056f237e20fdba7...         1         1   \n",
       "2  b68330385cc203b6e8249f796d592ae6173df1adda5ae3...         1         1   \n",
       "3  ed921e3d758d33b09938bb46d932c3cdbef9f821b68a0e...         1         0   \n",
       "4  dd8279ea157b3802bb5b68a2fb647595178e941f889386...         1         0   \n",
       "\n",
       "                                              review            anotacao  \\\n",
       "0  agilidade configuração produto bom imagem som ...  positivo  negativo   \n",
       "1  atender expectativa outro fritadeira outro mar...  positivo  negativo   \n",
       "2  bom filme filme assistir curtir famílio luta v...  positivo  negativo   \n",
       "3  produto bom acabamento recomendar produto pois...            positivo   \n",
       "4  preço ta otimo calça real show bola bom econom...            positivo   \n",
       "\n",
       "  recommend_to_a_friend site_category_lv1  reviewer_birth_year  \\\n",
       "0                   Yes       Informática               1899.0   \n",
       "1                   Yes   Eletroportáteis               1900.0   \n",
       "2                   Yes   Filmes e Séries               1906.0   \n",
       "3                   Yes            Móveis               1908.0   \n",
       "4                   Yes              Moda               1924.0   \n",
       "\n",
       "  reviewer_gender  overall_rating  \n",
       "0               M               3  \n",
       "1               F               3  \n",
       "2               M               3  \n",
       "3               M               3  \n",
       "4               F               3  "
      ]
     },
     "execution_count": 8,
     "metadata": {},
     "output_type": "execute_result"
    }
   ],
   "source": [
    "#Lista as classes de sentimento existentes no dataset\n",
    "SENTIMENTOS = ['positivo','negativo']\n",
    "\n",
    "#Transforma as classes em coluna com valores preenchidos \n",
    "for sentimento in SENTIMENTOS[::-1]:\n",
    "    data.insert(1,sentimento,data.anotacao.apply(lambda x: 1 if sentimento in x else 0))\n",
    "\n",
    "#Visualização\n",
    "data.head()"
   ]
  },
  {
   "cell_type": "code",
   "execution_count": 9,
   "id": "7912840e",
   "metadata": {},
   "outputs": [
    {
     "data": {
      "text/plain": [
       "reviewer_id               object\n",
       "positivo                 float64\n",
       "negativo                 float64\n",
       "review                    object\n",
       "anotacao                  object\n",
       "recommend_to_a_friend     object\n",
       "site_category_lv1         object\n",
       "reviewer_birth_year      float64\n",
       "reviewer_gender           object\n",
       "overall_rating             int64\n",
       "dtype: object"
      ]
     },
     "execution_count": 9,
     "metadata": {},
     "output_type": "execute_result"
    }
   ],
   "source": [
    "# Converte os valores para Float\n",
    "data['positivo'] = data['positivo'].astype(float)\n",
    "data['negativo'] = data['negativo'].astype(float)\n",
    "data.dtypes"
   ]
  },
  {
   "cell_type": "markdown",
   "id": "0e8b95d7",
   "metadata": {},
   "source": [
    "##### Task 5: Dividir o Conjunto de Dados em Treino, Teste e Validação"
   ]
  },
  {
   "cell_type": "markdown",
   "id": "5a54f195",
   "metadata": {},
   "source": [
    "Divisão entre Treino e Teste"
   ]
  },
  {
   "cell_type": "code",
   "execution_count": 10,
   "id": "239c6c56",
   "metadata": {
    "scrolled": true
   },
   "outputs": [
    {
     "data": {
      "text/html": [
       "<div>\n",
       "<style scoped>\n",
       "    .dataframe tbody tr th:only-of-type {\n",
       "        vertical-align: middle;\n",
       "    }\n",
       "\n",
       "    .dataframe tbody tr th {\n",
       "        vertical-align: top;\n",
       "    }\n",
       "\n",
       "    .dataframe thead th {\n",
       "        text-align: right;\n",
       "    }\n",
       "</style>\n",
       "<table border=\"1\" class=\"dataframe\">\n",
       "  <thead>\n",
       "    <tr style=\"text-align: right;\">\n",
       "      <th></th>\n",
       "      <th>reviewer_id</th>\n",
       "      <th>positivo</th>\n",
       "      <th>negativo</th>\n",
       "      <th>review</th>\n",
       "      <th>anotacao</th>\n",
       "      <th>recommend_to_a_friend</th>\n",
       "      <th>site_category_lv1</th>\n",
       "      <th>reviewer_birth_year</th>\n",
       "      <th>reviewer_gender</th>\n",
       "      <th>overall_rating</th>\n",
       "    </tr>\n",
       "  </thead>\n",
       "  <tbody>\n",
       "    <tr>\n",
       "      <th>0</th>\n",
       "      <td>c2b3ebfc9238e1462555a7e36539a078c6fb85e5438e39...</td>\n",
       "      <td>1.0</td>\n",
       "      <td>1.0</td>\n",
       "      <td>agilidade configuração produto bom imagem som ...</td>\n",
       "      <td>positivo  negativo</td>\n",
       "      <td>Yes</td>\n",
       "      <td>Informática</td>\n",
       "      <td>1899.0</td>\n",
       "      <td>M</td>\n",
       "      <td>3</td>\n",
       "    </tr>\n",
       "    <tr>\n",
       "      <th>1</th>\n",
       "      <td>1345ab31c9fa498aac8dd78b1c1069a056f237e20fdba7...</td>\n",
       "      <td>1.0</td>\n",
       "      <td>1.0</td>\n",
       "      <td>atender expectativa outro fritadeira outro mar...</td>\n",
       "      <td>positivo  negativo</td>\n",
       "      <td>Yes</td>\n",
       "      <td>Eletroportáteis</td>\n",
       "      <td>1900.0</td>\n",
       "      <td>F</td>\n",
       "      <td>3</td>\n",
       "    </tr>\n",
       "    <tr>\n",
       "      <th>2</th>\n",
       "      <td>b68330385cc203b6e8249f796d592ae6173df1adda5ae3...</td>\n",
       "      <td>1.0</td>\n",
       "      <td>1.0</td>\n",
       "      <td>bom filme filme assistir curtir famílio luta v...</td>\n",
       "      <td>positivo  negativo</td>\n",
       "      <td>Yes</td>\n",
       "      <td>Filmes e Séries</td>\n",
       "      <td>1906.0</td>\n",
       "      <td>M</td>\n",
       "      <td>3</td>\n",
       "    </tr>\n",
       "    <tr>\n",
       "      <th>3</th>\n",
       "      <td>ed921e3d758d33b09938bb46d932c3cdbef9f821b68a0e...</td>\n",
       "      <td>1.0</td>\n",
       "      <td>0.0</td>\n",
       "      <td>produto bom acabamento recomendar produto pois...</td>\n",
       "      <td>positivo</td>\n",
       "      <td>Yes</td>\n",
       "      <td>Móveis</td>\n",
       "      <td>1908.0</td>\n",
       "      <td>M</td>\n",
       "      <td>3</td>\n",
       "    </tr>\n",
       "    <tr>\n",
       "      <th>4</th>\n",
       "      <td>dd8279ea157b3802bb5b68a2fb647595178e941f889386...</td>\n",
       "      <td>1.0</td>\n",
       "      <td>0.0</td>\n",
       "      <td>preço ta otimo calça real show bola bom econom...</td>\n",
       "      <td>positivo</td>\n",
       "      <td>Yes</td>\n",
       "      <td>Moda</td>\n",
       "      <td>1924.0</td>\n",
       "      <td>F</td>\n",
       "      <td>3</td>\n",
       "    </tr>\n",
       "  </tbody>\n",
       "</table>\n",
       "</div>"
      ],
      "text/plain": [
       "                                         reviewer_id  positivo  negativo  \\\n",
       "0  c2b3ebfc9238e1462555a7e36539a078c6fb85e5438e39...       1.0       1.0   \n",
       "1  1345ab31c9fa498aac8dd78b1c1069a056f237e20fdba7...       1.0       1.0   \n",
       "2  b68330385cc203b6e8249f796d592ae6173df1adda5ae3...       1.0       1.0   \n",
       "3  ed921e3d758d33b09938bb46d932c3cdbef9f821b68a0e...       1.0       0.0   \n",
       "4  dd8279ea157b3802bb5b68a2fb647595178e941f889386...       1.0       0.0   \n",
       "\n",
       "                                              review            anotacao  \\\n",
       "0  agilidade configuração produto bom imagem som ...  positivo  negativo   \n",
       "1  atender expectativa outro fritadeira outro mar...  positivo  negativo   \n",
       "2  bom filme filme assistir curtir famílio luta v...  positivo  negativo   \n",
       "3  produto bom acabamento recomendar produto pois...            positivo   \n",
       "4  preço ta otimo calça real show bola bom econom...            positivo   \n",
       "\n",
       "  recommend_to_a_friend site_category_lv1  reviewer_birth_year  \\\n",
       "0                   Yes       Informática               1899.0   \n",
       "1                   Yes   Eletroportáteis               1900.0   \n",
       "2                   Yes   Filmes e Séries               1906.0   \n",
       "3                   Yes            Móveis               1908.0   \n",
       "4                   Yes              Moda               1924.0   \n",
       "\n",
       "  reviewer_gender  overall_rating  \n",
       "0               M               3  \n",
       "1               F               3  \n",
       "2               M               3  \n",
       "3               M               3  \n",
       "4               F               3  "
      ]
     },
     "execution_count": 10,
     "metadata": {},
     "output_type": "execute_result"
    }
   ],
   "source": [
    "data.head()"
   ]
  },
  {
   "cell_type": "code",
   "execution_count": 11,
   "id": "2e3789b0",
   "metadata": {},
   "outputs": [],
   "source": [
    "#Define as Variáveis Target e Predictor - BOW\n",
    "X1 = X_bow\n",
    "y = data[['positivo', 'negativo']]"
   ]
  },
  {
   "cell_type": "code",
   "execution_count": 12,
   "id": "b87c2b56",
   "metadata": {},
   "outputs": [],
   "source": [
    "# Divide os dados em treino e teste - BOW\n",
    "X_train,X_test,y_train,y_test = train_test_split(X1,y,test_size=0.2,random_state=42)"
   ]
  },
  {
   "cell_type": "code",
   "execution_count": 13,
   "id": "e4918c05",
   "metadata": {},
   "outputs": [],
   "source": [
    "#Define as Variáveis Target e Predictor - TD-IDF\n",
    "X2 = X_tfidf\n",
    "y = data[['positivo', 'negativo']]"
   ]
  },
  {
   "cell_type": "code",
   "execution_count": 14,
   "id": "8b037206",
   "metadata": {},
   "outputs": [],
   "source": [
    "# Divide os dados em treino e teste - TD-IDF\n",
    "X_train,X_test,y_train,y_test = train_test_split(X2,y,test_size=0.2,random_state=42)"
   ]
  }
 ],
 "metadata": {
  "kernelspec": {
   "display_name": "Python 3 (ipykernel)",
   "language": "python",
   "name": "python3"
  },
  "language_info": {
   "codemirror_mode": {
    "name": "ipython",
    "version": 3
   },
   "file_extension": ".py",
   "mimetype": "text/x-python",
   "name": "python",
   "nbconvert_exporter": "python",
   "pygments_lexer": "ipython3",
   "version": "3.8.5"
  }
 },
 "nbformat": 4,
 "nbformat_minor": 5
}
