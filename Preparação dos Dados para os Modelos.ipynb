{
 "cells": [
  {
   "cell_type": "markdown",
   "id": "9cc49c83",
   "metadata": {},
   "source": [
    "### ANÁLISE DE SENTIMENTO EM REVIEWS DE TRÊS ESTRELAS: UMA PROPOSTA DE CLASSIFICAÇÃO MULTIRRÓTULO\n",
    "\n",
    "##### Seção 7. Preparação dos Dados para os Modelos de Aprendizado de Máquina"
   ]
  },
  {
   "cell_type": "markdown",
   "id": "c3a2af43",
   "metadata": {},
   "source": [
    "#### Importação das Bibliotecas"
   ]
  },
  {
   "cell_type": "code",
   "execution_count": null,
   "id": "817da835",
   "metadata": {},
   "outputs": [],
   "source": [
    "import pandas as pd\n",
    "import re\n",
    "import nltk\n",
    "import numpy as np\n",
    "nltk.download('stopwords')\n",
    "from nltk.corpus import stopwords\n",
    "import spacy\n",
    "import spacy.cli\n",
    "spacy.cli.download(\"pt_core_news_sm\")\n",
    "import pt_core_news_sm\n",
    "spc_pt = pt_core_news_sm.load()\n",
    "from sklearn.feature_extraction.text import CountVectorizer\n",
    "from sklearn.feature_extraction.text import TfidfVectorizer\n",
    "from sklearn.model_selection import train_test_split"
   ]
  },
  {
   "cell_type": "markdown",
   "id": "f36f0f39",
   "metadata": {},
   "source": [
    "#### Task 0: Carregar o dataset B2W-Reviews01-Anotado"
   ]
  },
  {
   "cell_type": "code",
   "execution_count": null,
   "id": "ef5041f5",
   "metadata": {},
   "outputs": [],
   "source": [
    "#Carrega o dataset anotado\n",
    "data = pd.read_csv('../Documents/TCC/b2w-reviews-01-anotado.csv')"
   ]
  },
  {
   "cell_type": "markdown",
   "id": "6a15c8ec",
   "metadata": {},
   "source": [
    "#### Task 1: Eliminar Reviews Neutras"
   ]
  },
  {
   "cell_type": "code",
   "execution_count": null,
   "id": "7e2d5fe7",
   "metadata": {},
   "outputs": [],
   "source": [
    "data = data[data['anotacao'] != 'neutro']\n",
    "data.reset_index(drop=True, inplace=True)"
   ]
  },
  {
   "cell_type": "code",
   "execution_count": null,
   "id": "6797d77a",
   "metadata": {},
   "outputs": [],
   "source": [
    "data.anotacao.value_counts()"
   ]
  },
  {
   "cell_type": "markdown",
   "id": "06f7fc15",
   "metadata": {},
   "source": [
    "#### Task 2: Preparação dos Dados para Modelos"
   ]
  },
  {
   "cell_type": "code",
   "execution_count": null,
   "id": "9bf02ae2",
   "metadata": {},
   "outputs": [],
   "source": [
    "#Remove da lista de stopwords palavras importantes\n",
    "stopwords_pt = stopwords.words(\"portuguese\")\n",
    "stopwords_pt = [i for i in stopwords_pt if i not in [\"não\", \"nenhum\", \"nada\", \"jamais\", \"nunca\", \"nem\"]]\n",
    "\n",
    "\n",
    "def limpa_texto(texto):\n",
    "    texto = texto.lower() #Transforma texto em minúsculo\n",
    "    texto = re.sub(r\"[\\W\\d_]+\", \" \", texto) #Filtra apenas letras\n",
    "    texto = [pal for pal in texto.split() if pal not in stopwords_pt] #Remove stopwords\n",
    "    spc_texto = spc_pt(\" \".join(texto))\n",
    "    tokens = [word.lemma_ if word.lemma_ != \"-PRON-\" else word.lower_ for word in spc_texto] #Lemmatiza\n",
    "\n",
    "    return \" \".join(tokens)\n",
    "\n",
    "#Aplica função na coluna Review\n",
    "data['review'] = data['review'].apply(limpa_texto)\n"
   ]
  },
  {
   "cell_type": "markdown",
   "id": "6071c02b",
   "metadata": {},
   "source": [
    "#### Task 3: Feature extraction"
   ]
  },
  {
   "cell_type": "markdown",
   "id": "3c6bce52",
   "metadata": {},
   "source": [
    "Com Bag of Words"
   ]
  },
  {
   "cell_type": "code",
   "execution_count": null,
   "id": "3e7370a0",
   "metadata": {},
   "outputs": [],
   "source": [
    "# Instancia o CountVectorizer\n",
    "vectorizer = CountVectorizer(binary=True)\n",
    "\n",
    "# Vetoriza a coluna Review\n",
    "texto = data['review']\n",
    "X_bow = vectorizer.fit_transform(texto)\n",
    "\n",
    "#Transforma o resultado em Array\n",
    "X_bow.toarray()"
   ]
  },
  {
   "cell_type": "markdown",
   "id": "395d557b",
   "metadata": {},
   "source": [
    "Com TF-IDF"
   ]
  },
  {
   "cell_type": "code",
   "execution_count": null,
   "id": "6c3a54a1",
   "metadata": {},
   "outputs": [],
   "source": [
    "# Instancia o TfidfVectorizer\n",
    "tfidf_vect = TfidfVectorizer(max_features=5000)\n",
    "\n",
    "# Vetoriza o texto\n",
    "X_tfidf = tfidf_vect.fit_transform(texto)\n",
    "\n",
    "print(X_tfidf)"
   ]
  },
  {
   "cell_type": "markdown",
   "id": "fa583c90",
   "metadata": {},
   "source": [
    "#### Task 4: Binarizar as Classes de Sentimento"
   ]
  },
  {
   "cell_type": "code",
   "execution_count": null,
   "id": "6d4f6292",
   "metadata": {
    "scrolled": false
   },
   "outputs": [],
   "source": [
    "#Lista as classes de sentimento existentes no dataset\n",
    "SENTIMENTOS = ['positivo','negativo']\n",
    "\n",
    "#Transforma as classes em coluna com valores preenchidos \n",
    "for sentimento in SENTIMENTOS[::-1]:\n",
    "    data.insert(1,sentimento,data.anotacao.apply(lambda x: 1 if sentimento in x else 0))\n",
    "\n",
    "#Visualização\n",
    "data.head()"
   ]
  },
  {
   "cell_type": "code",
   "execution_count": null,
   "id": "7912840e",
   "metadata": {},
   "outputs": [],
   "source": [
    "# Converte os valores para Float\n",
    "data['positivo'] = data['positivo'].astype(float)\n",
    "data['negativo'] = data['negativo'].astype(float)\n",
    "data.dtypes"
   ]
  },
  {
   "cell_type": "markdown",
   "id": "0e8b95d7",
   "metadata": {},
   "source": [
    "##### Task 5: Dividir o Conjunto de Dados em Treino, Teste e Validação"
   ]
  },
  {
   "cell_type": "markdown",
   "id": "5a54f195",
   "metadata": {},
   "source": [
    "Divisão entre Treino e Teste"
   ]
  },
  {
   "cell_type": "code",
   "execution_count": null,
   "id": "239c6c56",
   "metadata": {
    "scrolled": true
   },
   "outputs": [],
   "source": [
    "data.head()"
   ]
  },
  {
   "cell_type": "code",
   "execution_count": null,
   "id": "2e3789b0",
   "metadata": {},
   "outputs": [],
   "source": [
    "#Define as Variáveis Target e Predictor - BOW\n",
    "X1 = X_bow\n",
    "y = data[['positivo', 'negativo']]"
   ]
  },
  {
   "cell_type": "code",
   "execution_count": null,
   "id": "b87c2b56",
   "metadata": {},
   "outputs": [],
   "source": [
    "# Divide os dados em treino e teste - BOW\n",
    "X_train,X_test,y_train,y_test = train_test_split(X1,y,test_size=0.2,random_state=42)"
   ]
  },
  {
   "cell_type": "code",
   "execution_count": null,
   "id": "e4918c05",
   "metadata": {},
   "outputs": [],
   "source": [
    "#Define as Variáveis Target e Predictor - TD-IDF\n",
    "X2 = X_tfidf\n",
    "y = data[['positivo', 'negativo']]"
   ]
  },
  {
   "cell_type": "code",
   "execution_count": null,
   "id": "8b037206",
   "metadata": {},
   "outputs": [],
   "source": [
    "# Divide os dados em treino e teste - TD-IDF\n",
    "X_train,X_test,y_train,y_test = train_test_split(X2,y,test_size=0.2,random_state=42)"
   ]
  }
 ],
 "metadata": {
  "kernelspec": {
   "display_name": "Python 3 (ipykernel)",
   "language": "python",
   "name": "python3"
  },
  "language_info": {
   "codemirror_mode": {
    "name": "ipython",
    "version": 3
   },
   "file_extension": ".py",
   "mimetype": "text/x-python",
   "name": "python",
   "nbconvert_exporter": "python",
   "pygments_lexer": "ipython3",
   "version": "3.8.5"
  }
 },
 "nbformat": 4,
 "nbformat_minor": 5
}
