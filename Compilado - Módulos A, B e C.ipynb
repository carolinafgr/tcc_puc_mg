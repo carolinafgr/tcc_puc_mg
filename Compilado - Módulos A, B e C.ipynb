{
 "cells": [
  {
   "cell_type": "markdown",
   "id": "9a9eb70e",
   "metadata": {},
   "source": [
    "# ANÁLISE DE SENTIMENTO EM REVIEWS DE TRÊS ESTRELAS: UMA PROPOSTA DE CLASSIFICAÇÃO MULTIRRÓTULO"
   ]
  },
  {
   "cell_type": "markdown",
   "id": "31ba2bd1",
   "metadata": {},
   "source": [
    "## Importação das Bibliotecas"
   ]
  },
  {
   "cell_type": "code",
   "execution_count": null,
   "id": "f0638d40",
   "metadata": {},
   "outputs": [],
   "source": [
    "#Importa a Biblioteca Pandas para Análise de Dados\n",
    "import pandas as pd\n",
    "\n",
    "#Importa Matplotlib e Seaborn para Plotagem e Visualização de Dados\n",
    "import matplotlib.pyplot as plt\n",
    "import seaborn as sns \n",
    "\n",
    "#Importa bibliotecas necessárias para Nuvem de Palavras\n",
    "from wordcloud import WordCloud, STOPWORDS, ImageColorGenerator\n",
    "from PIL import Image\n",
    "import numpy as np\n",
    "\n",
    "#Importa bibliotecas necessárias para Preparação dos Dados para os Modelos de Aprendizado de Máquina\n",
    "import re\n",
    "import nltk\n",
    "import spacy\n",
    "import spacy.cli\n",
    "spacy.cli.download(\"pt_core_news_sm\")\n",
    "import pt_core_news_sm\n",
    "spc_pt = pt_core_news_sm.load()\n",
    "from sklearn.feature_extraction.text import CountVectorizer\n",
    "from sklearn.feature_extraction.text import TfidfVectorizer\n",
    "from sklearn.model_selection import train_test_split\n",
    "\n",
    "#Importa bibliotecas necessárias para Desenvolvimento dos Modelos de Aprendizado de Máquina\n",
    "from sklearn.metrics import hamming_loss, accuracy_score\n",
    "from skmultilearn.problem_transform import BinaryRelevance\n",
    "from sklearn.svm import SVC #suport vector machine\n",
    "from sklearn.naive_bayes import MultinomialNB #naive bayes\n",
    "from sklearn.tree import DecisionTreeClassifier #arvore de decisão\n",
    "from sklearn.metrics import accuracy_score,classification_report #metricas"
   ]
  },
  {
   "cell_type": "markdown",
   "id": "db697b37",
   "metadata": {},
   "source": [
    "## Processamento/Tratamento dos Dados\n"
   ]
  },
  {
   "cell_type": "markdown",
   "id": "260e0e47",
   "metadata": {},
   "source": [
    "#### Task 0: Carregar o dataset B2W-Reviews01\n"
   ]
  },
  {
   "cell_type": "code",
   "execution_count": null,
   "id": "1763d4f1",
   "metadata": {},
   "outputs": [],
   "source": [
    "#Carrega o dataset completo\n",
    "data = pd.read_csv('https://raw.githubusercontent.com/americanas-tech/b2w-reviews01/main/B2W-Reviews01.csv')\n",
    "#Printa as primeiras cinco linhas do dataset\n",
    "data.head()"
   ]
  },
  {
   "cell_type": "code",
   "execution_count": null,
   "id": "01193b95",
   "metadata": {
    "scrolled": false
   },
   "outputs": [],
   "source": [
    "#Printa informações gerais do Dataset\n",
    "data.info()"
   ]
  },
  {
   "cell_type": "markdown",
   "id": "048ab776",
   "metadata": {},
   "source": [
    "#### Task 01: Remover Atributos Indesejados"
   ]
  },
  {
   "cell_type": "code",
   "execution_count": null,
   "id": "f7a66492",
   "metadata": {},
   "outputs": [],
   "source": [
    "data = data.drop(columns=\n",
    "                 [\"submission_date\", \"product_id\", \"product_name\", \"product_brand\", \"site_category_lv2\", \"reviewer_state\"])"
   ]
  },
  {
   "cell_type": "markdown",
   "id": "46c429b3",
   "metadata": {},
   "source": [
    "#### Task 02: Filtrar Avaliações de Três Estrelas"
   ]
  },
  {
   "cell_type": "code",
   "execution_count": null,
   "id": "d1e505bc",
   "metadata": {},
   "outputs": [],
   "source": [
    "#Seleciona apenas as avaliações de nota 3\n",
    "tres_estrelas = [3]\n",
    "data= data[data.overall_rating.isin(tres_estrelas)]\n",
    "\n",
    "#Printa informações gerais do Dataset mais uma vez\n",
    "data.info()"
   ]
  },
  {
   "cell_type": "markdown",
   "id": "a6adc99a",
   "metadata": {},
   "source": [
    "#### Task 03: Concatenar Colunas Review_Title + Review_Text"
   ]
  },
  {
   "cell_type": "code",
   "execution_count": null,
   "id": "626b4186",
   "metadata": {},
   "outputs": [],
   "source": [
    "#Cria uma nova coluna Review\n",
    "data[\"review\"] = data['review_title'] + \" \" + data['review_text']\n",
    "\n",
    "#Exclui as colunas Review_title e Review_text\n",
    "data= data.drop(columns=[\"review_title\", \"review_text\"])\n",
    "\n",
    "#Printa as primeiras cinco linhas do dataset\n",
    "data.head()"
   ]
  },
  {
   "cell_type": "markdown",
   "id": "335c3690",
   "metadata": {},
   "source": [
    "#### Task 04: Remover Avaliações Vazias"
   ]
  },
  {
   "cell_type": "code",
   "execution_count": null,
   "id": "c9d8a6b4",
   "metadata": {},
   "outputs": [],
   "source": [
    "#Confere a quantidade de campos vazios por atributo\n",
    "data.isnull().sum()\n",
    "\n",
    "#Remove as avaliações vazias\n",
    "data=data.dropna(subset=['review'])"
   ]
  },
  {
   "cell_type": "markdown",
   "id": "985c7ffe",
   "metadata": {},
   "source": [
    "#### Task 05: Remover Avaliações Duplicadas"
   ]
  },
  {
   "cell_type": "code",
   "execution_count": null,
   "id": "2cd053dd",
   "metadata": {},
   "outputs": [],
   "source": [
    "#Confere a quantidade de avaliações duplicadas\n",
    "data.duplicated('review').sum()\n",
    "\n",
    "#Remove as avaliações duplicadas\n",
    "data =data.drop_duplicates(subset=['review'], keep='first')"
   ]
  },
  {
   "cell_type": "markdown",
   "id": "da8123fd",
   "metadata": {},
   "source": [
    "#### Task 06: Adicionar a coluna para Anotação Manual"
   ]
  },
  {
   "cell_type": "code",
   "execution_count": null,
   "id": "4b653a43",
   "metadata": {},
   "outputs": [],
   "source": [
    "#Cria coluna vazia\n",
    "data= data.assign(anotação='')\n",
    "\n",
    "data.head()"
   ]
  },
  {
   "cell_type": "markdown",
   "id": "381e9c46",
   "metadata": {},
   "source": [
    "#### Task 07: Salvar Dataset de Três Estrelas  "
   ]
  },
  {
   "cell_type": "code",
   "execution_count": null,
   "id": "77bce782",
   "metadata": {},
   "outputs": [],
   "source": [
    "#Salva o dataset de três estrelas limpo\n",
    "data_limpo_três = data.to_csv(\"data_limpo_três.csv\")"
   ]
  },
  {
   "cell_type": "markdown",
   "id": "6e03b9c7",
   "metadata": {},
   "source": [
    "#### Task 08: Salvar Amostra para Anotação"
   ]
  },
  {
   "cell_type": "code",
   "execution_count": null,
   "id": "597fc883",
   "metadata": {},
   "outputs": [],
   "source": [
    "#Retira uma amostra aleatória simples de avaliações de três estrelas a partir do dataset limpo\n",
    "amostra_tres_anotacao = data.sample(n=5000, random_state=1)\n",
    "\n",
    "#Salva a amostra\n",
    "amostra_tres_anotacao.to_csv('amostra_tres_anotacao.csv')"
   ]
  },
  {
   "cell_type": "markdown",
   "id": "5eb925d3",
   "metadata": {},
   "source": [
    "## Análise e Exploração dos Dados"
   ]
  },
  {
   "cell_type": "markdown",
   "id": "e924b1b5",
   "metadata": {},
   "source": [
    "#### Task 0: Carregar o dataset B2W-Reviews01-Anotado Manualmente"
   ]
  },
  {
   "cell_type": "code",
   "execution_count": null,
   "id": "610da641",
   "metadata": {},
   "outputs": [],
   "source": [
    "#Carrega o dataset anotado\n",
    "data_anotado = pd.read_csv('../Documents/TCC/b2w-reviews-01-anotado.csv')\n",
    "data_anotado.index.name = 'index'\n",
    "\n",
    "#Printa as primeiras cinco linhas do dataset\n",
    "data_anotado.head()"
   ]
  },
  {
   "cell_type": "code",
   "execution_count": null,
   "id": "b057fb42",
   "metadata": {
    "scrolled": true
   },
   "outputs": [],
   "source": [
    "#Printa informações gerais do dataset anotado\n",
    "data_anotado.info()"
   ]
  },
  {
   "cell_type": "markdown",
   "id": "0b480c54",
   "metadata": {},
   "source": [
    "#### Task 01: Checar a distribuição das Classes de Sentimento"
   ]
  },
  {
   "cell_type": "code",
   "execution_count": null,
   "id": "59c9d482",
   "metadata": {},
   "outputs": [],
   "source": [
    "#Checa a distribuição das classes de sentimento\n",
    "data_anotado.anotacao.value_counts().to_frame()"
   ]
  },
  {
   "cell_type": "code",
   "execution_count": null,
   "id": "a5baa0e9",
   "metadata": {},
   "outputs": [],
   "source": [
    "#Plota a distribuição das classes de sentimento em um gráfico de barras \n",
    "data_anotado.anotacao.value_counts().plot(kind=\"bar\", color=[\"orange\", \"green\",\"red\",\"yellow\"]);\n",
    "\n",
    "#Adiciona informações ao gráfico\n",
    "plt.title(\"Distribuição das Classes de Sentimento\")\n",
    "plt.ylabel(\"Quantidade\")\n",
    "plt.xlabel(\"Classes de Sentimento\")\n",
    "plt.xticks(rotation=0);"
   ]
  },
  {
   "cell_type": "markdown",
   "id": "0137461f",
   "metadata": {},
   "source": [
    "#### Task 02: Analisar o atributo Recomendação a um Amigo "
   ]
  },
  {
   "cell_type": "code",
   "execution_count": null,
   "id": "229e70ed",
   "metadata": {},
   "outputs": [],
   "source": [
    "#Quantifica o atributo Recommend to a Friend\n",
    "data_anotado.recommend_to_a_friend.value_counts().to_frame()"
   ]
  },
  {
   "cell_type": "code",
   "execution_count": null,
   "id": "0513cc7c",
   "metadata": {},
   "outputs": [],
   "source": [
    "#Plota a distribuição de Recomendação a um Amigo em um gráfico de barras \n",
    "data_anotado.recommend_to_a_friend.value_counts().plot(kind=\"bar\", color=[\"green\", \"red\"]);\n",
    "\n",
    "#Adiciona informações ao gráfico\n",
    "plt.title(\"Distribuição - Recomendação a um Amigo\")\n",
    "plt.ylabel(\"Quantidade\")\n",
    "plt.xlabel(\"Classes de Recomendação\")\n",
    "plt.xticks(rotation=0);"
   ]
  },
  {
   "cell_type": "code",
   "execution_count": null,
   "id": "e95ad388",
   "metadata": {},
   "outputs": [],
   "source": [
    "#Cruza Recomendação a um Amigo com a distribuição de Sentimento\n",
    "pd.crosstab(data_anotado.anotacao, data_anotado.recommend_to_a_friend)"
   ]
  },
  {
   "cell_type": "code",
   "execution_count": null,
   "id": "67c86e10",
   "metadata": {},
   "outputs": [],
   "source": [
    "# Cria um plot para comparação entre Recomendação x Sentimento\n",
    "pd.crosstab(data_anotado.anotacao, data_anotado.recommend_to_a_friend).plot(kind=\"bar\", figsize=(10,6), color=[\"red\", \"green\"])\n",
    "\n",
    "#Adiciona informações ao gráfico\n",
    "plt.title(\"Recomendação a um Amigo X Sentimento do Cliente\")\n",
    "plt.ylabel(\"Quantidade\")\n",
    "plt.xlabel(\"Classes de Sentimento\")\n",
    "plt.legend([\"Não (No)\", \"Sim (Yes)\"])\n",
    "plt.xticks(rotation=0);"
   ]
  },
  {
   "cell_type": "markdown",
   "id": "d6482cfe",
   "metadata": {},
   "source": [
    "#### Task 03: Analisar o atributo Gênero"
   ]
  },
  {
   "cell_type": "code",
   "execution_count": null,
   "id": "e1fcfe5c",
   "metadata": {},
   "outputs": [],
   "source": [
    "#Quantifica o atributo Reviewer Gender\n",
    "data_anotado.reviewer_gender.value_counts().to_frame()"
   ]
  },
  {
   "cell_type": "code",
   "execution_count": null,
   "id": "52124c1c",
   "metadata": {},
   "outputs": [],
   "source": [
    "#Cruza Gênero com a distribuição de Sentimento\n",
    "pd.crosstab(data_anotado.anotacao, data_anotado.reviewer_gender)"
   ]
  },
  {
   "cell_type": "code",
   "execution_count": null,
   "id": "737e9088",
   "metadata": {},
   "outputs": [],
   "source": [
    "# Cria um plot para comparação entre Gênero x Sentimento\n",
    "pd.crosstab(data_anotado.anotacao, data_anotado.reviewer_gender).plot(kind=\"bar\", figsize=(10,6), color=[\"pink\", \"blue\"])\n",
    "\n",
    "#Adiciona informações ao gráfico\n",
    "plt.title(\"Gênero X Sentimento dos Clientes\")\n",
    "plt.ylabel(\"Quantidade\")\n",
    "plt.xlabel(\"Classes de Sentimento\")\n",
    "plt.legend([\"Mulher (Female)\",\"Homem (Male)\"])\n",
    "plt.xticks(rotation=0); "
   ]
  },
  {
   "cell_type": "markdown",
   "id": "2235fd32",
   "metadata": {},
   "source": [
    "#### Task 04: Analisar o atributo Idade"
   ]
  },
  {
   "cell_type": "code",
   "execution_count": null,
   "id": "cb398fff",
   "metadata": {},
   "outputs": [],
   "source": [
    "#Checa o ano de nascimento do Cliente mais novo\n",
    "data_anotado.reviewer_birth_year.max()"
   ]
  },
  {
   "cell_type": "code",
   "execution_count": null,
   "id": "9f815773",
   "metadata": {},
   "outputs": [],
   "source": [
    "#Checa o ano de nascimento do Cliente mais velho\n",
    "data_anotado.reviewer_birth_year.min()"
   ]
  },
  {
   "cell_type": "code",
   "execution_count": null,
   "id": "bc213709",
   "metadata": {},
   "outputs": [],
   "source": [
    "#Agrupa os Clientes da Geração Z - Faixa Etária escolhida para Exploração dos Dados\n",
    "GenZ =data_anotado.loc[data_anotado[\"reviewer_birth_year\"].between(1995, 2010)]"
   ]
  },
  {
   "cell_type": "code",
   "execution_count": null,
   "id": "8ff0d0a7",
   "metadata": {},
   "outputs": [],
   "source": [
    "#Checa quantidade de reviews pertencentes à Geração Z\n",
    "len(GenZ)"
   ]
  },
  {
   "cell_type": "code",
   "execution_count": null,
   "id": "4c93c4df",
   "metadata": {},
   "outputs": [],
   "source": [
    "#Checa a distribuição das classes de Sentimento da Geração Z por ano de nascimento\n",
    "pd.crosstab(GenZ.anotacao, GenZ.reviewer_birth_year)"
   ]
  },
  {
   "cell_type": "code",
   "execution_count": null,
   "id": "b5ea638e",
   "metadata": {},
   "outputs": [],
   "source": [
    "#Plota a distribuição das classes de Sentimento da GenZ em um gráfico de barras\n",
    "GenZ.anotacao.value_counts().plot(kind=\"bar\",color=['orange','green','yellow','red']);\n",
    "\n",
    "#Adiciona informações ao gráfico\n",
    "plt.title(\"Distribuição das Classes de Sentimento GenZ - Geral\")\n",
    "plt.ylabel(\"Quantidade\")\n",
    "plt.xlabel(\"Classes de Sentimento\")\n",
    "plt.xticks(rotation=0);"
   ]
  },
  {
   "cell_type": "code",
   "execution_count": null,
   "id": "d3678088",
   "metadata": {},
   "outputs": [],
   "source": [
    "#Checa avaliações neutras GenZ\n",
    "neutras_GenZ = GenZ[GenZ['anotacao']=='neutro']\n",
    "neutras_GenZ.review.to_frame().head()"
   ]
  },
  {
   "cell_type": "markdown",
   "id": "0c6f4ad7",
   "metadata": {},
   "source": [
    "#### Task 05: Analisar o atributo Categoria de Produto"
   ]
  },
  {
   "cell_type": "code",
   "execution_count": null,
   "id": "4c25b5fe",
   "metadata": {},
   "outputs": [],
   "source": [
    "#Quantifica o atributo Site Category em relação à GenZ\n",
    "GenZ.site_category_lv1.value_counts().to_frame()"
   ]
  },
  {
   "cell_type": "code",
   "execution_count": null,
   "id": "6da47426",
   "metadata": {},
   "outputs": [],
   "source": [
    "#Plota a distribuição das classes de Sentimento da categoria mais popular - Gen Z \n",
    "top_dpt_genz = GenZ[GenZ['site_category_lv1']=='Eletrodomésticos']\n",
    "top_dpt_genz.anotacao.value_counts().plot(kind=\"bar\", color=['red','yellow','orange']);\n",
    "\n",
    "#Adiciona informações ao gráfico\n",
    "plt.title(\"Distribuição das Classes de Sentimento GenZ - Eletrodomésticos\")\n",
    "plt.ylabel(\"Quantidade\")\n",
    "plt.xlabel(\"Classes de Sentimento\")\n",
    "plt.xticks(rotation=0);"
   ]
  },
  {
   "cell_type": "code",
   "execution_count": null,
   "id": "2ebed3a3",
   "metadata": {},
   "outputs": [],
   "source": [
    "#Plota a distribuição das classes de Sentimento da segunda categoria mais popular - Gen Z \n",
    "top2_dpt_genz = GenZ[GenZ['site_category_lv1']=='Móveis']\n",
    "top2_dpt_genz.anotacao.value_counts().plot(kind=\"bar\", color=['orange','green','yellow','red']);\n",
    "\n",
    "#Adiciona informações ao gráfico\n",
    "plt.title(\"Distribuição das Classes de Sentimento Gen Z - Móveis\")\n",
    "plt.ylabel(\"Quantidade\")\n",
    "plt.xlabel(\"Classes de Sentimento\")\n",
    "plt.xticks(rotation=0);"
   ]
  },
  {
   "cell_type": "markdown",
   "id": "08f155ab",
   "metadata": {},
   "source": [
    "#### Task 06: Construir Nuvens de Palavras "
   ]
  },
  {
   "cell_type": "code",
   "execution_count": null,
   "id": "6ae518fa",
   "metadata": {},
   "outputs": [],
   "source": [
    "#Constrói uma nuvem de palavra considerando o dataset inteiro\n",
    "\n",
    "#Seleciona os textos da coluna Review e agrupa em uma lista\n",
    "textos_reviews = data_anotado['review']\n",
    "lista_geral = \" \".join(textos_reviews)\n",
    "\n",
    "#Importa stopwords em português\n",
    "stopwords = open('stopwords.txt').read()\n",
    "\n",
    "#Transforma as stopwords em um lista\n",
    "lista_stopwords_wc = stopwords.split(' \\n')\n",
    "\n",
    "#Inicializa uma Nuvem de Palavra\n",
    "wordcloud_geral = WordCloud(stopwords=lista_stopwords_wc,\n",
    "                      background_color = 'white', #cor de fundo\n",
    "                      width = 1000, #largura\n",
    "                      height = 500) #altura\n",
    "               \n",
    "#Gera uma Nuvem de Palavra\n",
    "wordcloud_geral.generate(lista_geral)\n",
    "plt.figure(figsize = (15, 7)) #tamanho do gráfico\n",
    "plt.imshow(wordcloud_geral, interpolation = 'bilinear') #plotagem da nuvem de palavras\n",
    "plt.axis('off') #remove as bordas\n",
    "plt.show() #mostra a nuvem de palavra"
   ]
  },
  {
   "cell_type": "code",
   "execution_count": null,
   "id": "41ff1b11",
   "metadata": {},
   "outputs": [],
   "source": [
    "#Constrói uma nuvem de palavra considerando as reviews positivas\n",
    "\n",
    "#Seleciona apenas as reviews positivas e agrupa em uma lista\n",
    "nuvem_positivas = data_anotado[data_anotado['anotacao']=='positivo']\n",
    "textos_positivas = nuvem_positivas['review']\n",
    "lista_positivas = \" \".join(textos_positivas)\n",
    "\n",
    "#Inicializa uma Nuvem de Palavra\n",
    "wordcloud_positivas = WordCloud(stopwords=lista_stopwords_wc,\n",
    "                      background_color = 'white', #cor de fundo\n",
    "                      width = 1000, #largura\n",
    "                      height = 500) #altura\n",
    "               \n",
    "#Gera uma Nuvem de Palavra\n",
    "wordcloud_positivas.generate(lista_positivas)\n",
    "plt.figure(figsize = (15, 7)) #tamanho do gráfico\n",
    "plt.imshow(wordcloud_positivas, interpolation = 'bilinear') #plotagem da nuvem de palavras\n",
    "plt.axis('off') #remove as bordas\n",
    "plt.show() #mostra a nuvem de palavra"
   ]
  },
  {
   "cell_type": "code",
   "execution_count": null,
   "id": "e7174336",
   "metadata": {
    "scrolled": false
   },
   "outputs": [],
   "source": [
    "#Constrói uma nuvem de palavra considerando as reviews negativas\n",
    "\n",
    "#Seleciona apenas as reviews negativas e agrupa em uma lista\n",
    "nuvem_negativas = data_anotado[data_anotado['anotacao']=='negativo']\n",
    "textos_negativas = nuvem_negativas['review']\n",
    "lista_negativas = \" \".join(textos_negativas)\n",
    "\n",
    "#Inicializa uma Nuvem de Palavra\n",
    "wordcloud_negativas = WordCloud(stopwords=lista_stopwords_wc,\n",
    "                      background_color = 'white', #cor de fundo\n",
    "                      width = 1000, #largura\n",
    "                      height = 500) #altura\n",
    "               \n",
    "#Gera uma Nuvem de Palavra\n",
    "wordcloud_negativas.generate(lista_negativas)\n",
    "plt.figure(figsize = (15, 7)) #tamanho do gráfico\n",
    "plt.imshow(wordcloud_negativas, interpolation = 'bilinear') #plotagem da nuvem de palavras\n",
    "plt.axis('off') #remove as bordas\n",
    "plt.show() #mostra a nuvem de palavra"
   ]
  },
  {
   "cell_type": "markdown",
   "id": "d06afa83",
   "metadata": {},
   "source": [
    "## Preparação dos Dados para os Modelos de Aprendizado de Máquina"
   ]
  },
  {
   "cell_type": "markdown",
   "id": "7c5879f1",
   "metadata": {},
   "source": [
    "#### Task 01: Eliminar Reviews Neutras"
   ]
  },
  {
   "cell_type": "code",
   "execution_count": null,
   "id": "44840717",
   "metadata": {},
   "outputs": [],
   "source": [
    "data_anotado = data_anotado[data_anotado['anotacao'] != 'neutro']\n",
    "data_anotado.reset_index(drop=True, inplace=True)\n",
    "data_anotado.index.name = 'index'"
   ]
  },
  {
   "cell_type": "code",
   "execution_count": null,
   "id": "9ebb8521",
   "metadata": {},
   "outputs": [],
   "source": [
    "data_anotado.anotacao.value_counts()"
   ]
  },
  {
   "cell_type": "markdown",
   "id": "47cb05c4",
   "metadata": {},
   "source": [
    "#### Task 02: Pré-Processar os textos da coluna Reviews"
   ]
  },
  {
   "cell_type": "code",
   "execution_count": null,
   "id": "b33ea069",
   "metadata": {},
   "outputs": [],
   "source": [
    "#Pré-processamento dos textos da coluna Reviews \n",
    "nltk.download('stopwords')\n",
    "from nltk.corpus import stopwords\n",
    "stopwords_pt = stopwords.words(\"portuguese\")\n",
    "stopwords_pt = [i for i in stopwords_pt if i not in [\"não\", \"nenhum\", \"nada\", \"jamais\", \"nunca\", \"nem\"]]\n",
    "\n",
    "def limpa_texto(texto):\n",
    "    texto = texto.lower() #Transforma texto em minúsculo\n",
    "    texto = re.sub(r\"[\\W\\d_]+\", \" \", texto) #Filtra apenas letras\n",
    "    texto = [pal for pal in texto.split() if pal not in stopwords_pt] #Remove stopwords\n",
    "    spc_texto = spc_pt(\" \".join(texto))\n",
    "    tokens = [word.lemma_ if word.lemma_ != \"-PRON-\" else word.lower_ for word in spc_texto] #Lemmatiza\n",
    "\n",
    "    return \" \".join(tokens)\n",
    "\n",
    "#Aplica função na coluna Review\n",
    "data_anotado['review'] = data_anotado['review'].apply(limpa_texto)"
   ]
  },
  {
   "cell_type": "markdown",
   "id": "d7eda3ab",
   "metadata": {},
   "source": [
    "#### Task 03: Transformar classes de sentimento em colunas"
   ]
  },
  {
   "cell_type": "code",
   "execution_count": null,
   "id": "46a90970",
   "metadata": {},
   "outputs": [],
   "source": [
    "#Lista as classes de sentimento existentes no dataset\n",
    "SENTIMENTOS = ['positivo','negativo']\n",
    " \n",
    "#Transforma as classes em coluna com valores preenchidos \n",
    "for sentimento in SENTIMENTOS[::-1]:\n",
    "    data_anotado.insert(1,sentimento,data_anotado.anotacao.apply(lambda x: 1 if sentimento in x else 0))"
   ]
  },
  {
   "cell_type": "markdown",
   "id": "cbda3d48",
   "metadata": {},
   "source": [
    "#### Task 04: Dividir os dados em Treino e Teste"
   ]
  },
  {
   "cell_type": "code",
   "execution_count": null,
   "id": "117371ec",
   "metadata": {},
   "outputs": [],
   "source": [
    "#Divide o Dataset em Treino e Teste\n",
    "X = data_anotado[\"review\"]\n",
    "y = data_anotado[['positivo', 'negativo']]\n",
    "\n",
    "X_train, X_test, y_train, y_test = train_test_split(X, y, test_size=0.2, random_state=42)"
   ]
  },
  {
   "cell_type": "markdown",
   "id": "6f165a1f",
   "metadata": {},
   "source": [
    "#### Task 05: Vetorizar os textos da coluna Reviews"
   ]
  },
  {
   "cell_type": "code",
   "execution_count": null,
   "id": "b8f2320e",
   "metadata": {},
   "outputs": [],
   "source": [
    "#Vetoriza as Reviews com TFIDF\n",
    "vectorizer_tfidf = TfidfVectorizer(max_features=5000)\n",
    "vectorizer_tfidf.fit(X)\n",
    "X_train_tfidf = vectorizer_tfidf.transform(X_train)\n",
    "X_test_tfidf = vectorizer_tfidf.transform(X_test)"
   ]
  },
  {
   "cell_type": "code",
   "execution_count": null,
   "id": "14df8174",
   "metadata": {},
   "outputs": [],
   "source": [
    "#Vetoriza as Reviews com BOW\n",
    "vectorizer_bow = CountVectorizer(binary=True)\n",
    "vectorizer_bow.fit(X)\n",
    "X_train_bow = vectorizer_bow.transform(X_train)\n",
    "X_test_bow = vectorizer_bow.transform(X_test)"
   ]
  },
  {
   "cell_type": "markdown",
   "id": "042f0fda",
   "metadata": {},
   "source": [
    "## Aplicação de Modelos de Aprendizado de Máquina "
   ]
  },
  {
   "cell_type": "markdown",
   "id": "829b56e4",
   "metadata": {},
   "source": [
    "#### Task 01: Testar o Método BR com Support Vector Machine (SVM)"
   ]
  },
  {
   "cell_type": "code",
   "execution_count": null,
   "id": "3bb64aba",
   "metadata": {},
   "outputs": [],
   "source": [
    "classifier_svm = BinaryRelevance(\n",
    "    classifier = SVC())"
   ]
  },
  {
   "cell_type": "code",
   "execution_count": null,
   "id": "270e6520",
   "metadata": {},
   "outputs": [],
   "source": [
    "# Treina com TFIDF\n",
    "classifier_svm.fit(X_train_tfidf, y_train)\n",
    "\n",
    "# Faz a predição com TFIDF\n",
    "predictions_tfidf_svm = classifier_svm.predict(X_test_tfidf)\n",
    "\n",
    "# Treina com BOW\n",
    "classifier_svm.fit(X_train_bow, y_train)\n",
    "\n",
    "# Faz a predição com BOW\n",
    "predictions_bow_svm = classifier_svm.predict(X_test_bow)"
   ]
  },
  {
   "cell_type": "code",
   "execution_count": null,
   "id": "b92b1209",
   "metadata": {},
   "outputs": [],
   "source": [
    "# Acurácia SVM com TFIDF\n",
    "accuracy_score(y_test,predictions_tfidf_svm)"
   ]
  },
  {
   "cell_type": "code",
   "execution_count": null,
   "id": "f49770d4",
   "metadata": {},
   "outputs": [],
   "source": [
    "# Hamming Loss SVM com TFDIF\n",
    "hamming_loss(y_test, predictions_tfidf_svm)"
   ]
  },
  {
   "cell_type": "code",
   "execution_count": null,
   "id": "8618ab89",
   "metadata": {},
   "outputs": [],
   "source": [
    "# Acurácia SVM com BOW\n",
    "accuracy_score(y_test,predictions_bow_svm)"
   ]
  },
  {
   "cell_type": "code",
   "execution_count": null,
   "id": "dc126fdf",
   "metadata": {},
   "outputs": [],
   "source": [
    "# Hamming Loss SVM com BOW\n",
    "hamming_loss(y_test, predictions_bow_svm)"
   ]
  },
  {
   "cell_type": "markdown",
   "id": "08b586a6",
   "metadata": {},
   "source": [
    "#### Task 02: Testar o Método BR com Naive Bayes (NB)"
   ]
  },
  {
   "cell_type": "code",
   "execution_count": null,
   "id": "d878713d",
   "metadata": {
    "scrolled": true
   },
   "outputs": [],
   "source": [
    "classifier_nb = BinaryRelevance(\n",
    "    classifier = MultinomialNB())"
   ]
  },
  {
   "cell_type": "code",
   "execution_count": null,
   "id": "8483c0a2",
   "metadata": {},
   "outputs": [],
   "source": [
    "# Treina com TFIDF\n",
    "classifier_nb.fit(X_train_tfidf, y_train)\n",
    "\n",
    "# Faz a predição com TFIDF\n",
    "predictions_tfidf_nb = classifier_nb.predict(X_test_tfidf)\n",
    "\n",
    "# Treina com BOW\n",
    "classifier_nb.fit(X_train_bow, y_train)\n",
    "\n",
    "# Faz a predição com BOW\n",
    "predictions_bow_nb = classifier_nb.predict(X_test_bow)"
   ]
  },
  {
   "cell_type": "code",
   "execution_count": null,
   "id": "adbbb158",
   "metadata": {},
   "outputs": [],
   "source": [
    "# Acurácia NB com TFIDF\n",
    "accuracy_score(y_test,predictions_tfidf_nb)"
   ]
  },
  {
   "cell_type": "code",
   "execution_count": null,
   "id": "662b86bc",
   "metadata": {},
   "outputs": [],
   "source": [
    "# Hamming Loss NB com TFDIF\n",
    "hamming_loss(y_test, predictions_tfidf_nb)"
   ]
  },
  {
   "cell_type": "code",
   "execution_count": null,
   "id": "eec6ef36",
   "metadata": {
    "scrolled": true
   },
   "outputs": [],
   "source": [
    "# Acurácia NB com BOW\n",
    "accuracy_score(y_test,predictions_bow_nb)"
   ]
  },
  {
   "cell_type": "code",
   "execution_count": null,
   "id": "815ad59c",
   "metadata": {},
   "outputs": [],
   "source": [
    "# Hamming Loss NB com BOW\n",
    "hamming_loss(y_test, predictions_bow_nb)"
   ]
  },
  {
   "cell_type": "markdown",
   "id": "8887ebc9",
   "metadata": {},
   "source": [
    "#### Task 03: Testar o Método BR com Árvore de Decisão (AD)"
   ]
  },
  {
   "cell_type": "code",
   "execution_count": null,
   "id": "d27825ed",
   "metadata": {},
   "outputs": [],
   "source": [
    "classifier_ad = BinaryRelevance(\n",
    "    classifier = DecisionTreeClassifier(criterion='entropy'))"
   ]
  },
  {
   "cell_type": "code",
   "execution_count": null,
   "id": "562f4d8e",
   "metadata": {},
   "outputs": [],
   "source": [
    "# Treina com TFIDF\n",
    "classifier_ad.fit(X_train_tfidf, y_train)\n",
    "\n",
    "# Faz a predição com TFIDF\n",
    "predictions_tfidf_ad = classifier_ad.predict(X_test_tfidf)\n",
    "\n",
    "# Treina com BOW\n",
    "classifier_ad.fit(X_train_bow, y_train)\n",
    "\n",
    "# Faz a predição com BOW\n",
    "predictions_bow_ad = classifier_ad.predict(X_test_bow)"
   ]
  },
  {
   "cell_type": "code",
   "execution_count": null,
   "id": "d8194367",
   "metadata": {},
   "outputs": [],
   "source": [
    "# Acurácia AD com TFIDF\n",
    "accuracy_score(y_test,predictions_tfidf_ad)"
   ]
  },
  {
   "cell_type": "code",
   "execution_count": null,
   "id": "01df3548",
   "metadata": {},
   "outputs": [],
   "source": [
    "# Hamming Loss AD com TFDIF\n",
    "hamming_loss(y_test, predictions_tfidf_ad)"
   ]
  },
  {
   "cell_type": "code",
   "execution_count": null,
   "id": "09d2c168",
   "metadata": {},
   "outputs": [],
   "source": [
    "# Acurácia AD com BOW\n",
    "accuracy_score(y_test,predictions_bow_ad)"
   ]
  },
  {
   "cell_type": "code",
   "execution_count": null,
   "id": "59ed5af4",
   "metadata": {
    "scrolled": true
   },
   "outputs": [],
   "source": [
    "# Hamming Loss NB com BOW\n",
    "hamming_loss(y_test, predictions_bow_ad)"
   ]
  },
  {
   "cell_type": "markdown",
   "id": "8a939569",
   "metadata": {},
   "source": [
    "### MÉTRICAS - Parte Visual"
   ]
  },
  {
   "cell_type": "code",
   "execution_count": null,
   "id": "5b9b25e2",
   "metadata": {},
   "outputs": [],
   "source": [
    "# Gráfico Barras Agrupadas - Acurácia\n",
    "acuraciabow = [0.80, 0.77, 0.74]\n",
    "acuraciatfidf = [0.78, 0.69, 0.73]\n",
    " \n",
    "# Definindo a largura das barras\n",
    "barWidth = 0.25\n",
    "\n",
    "# Aumentando o gráfico\n",
    "plt.figure(figsize=(12,7))\n",
    "\n",
    "# Definindo a posição das barras\n",
    "r1 = np.arange(len(acuraciabow))\n",
    "r2 = [x + barWidth for x in r1]\n",
    "\n",
    " \n",
    "# Criando as barras\n",
    "plt.bar(r1, acuraciabow, color='#24376D', width=barWidth, label='Accuracy - BoW')\n",
    "plt.bar(r2, acuraciatfidf, color='#6D5A24', width=barWidth, label='Accuracy - TF-IDF')\n",
    " \n",
    "# Adiciando legendas as barras\n",
    "plt.xlabel('Modelos')\n",
    "plt.xticks([r + barWidth for r in range(len(acuraciabow))], ['SVM', 'NB', 'AD'])\n",
    "plt.ylabel('Valores')\n",
    " \n",
    "# Criando a legenda e exibindo o gráfico\n",
    "plt.legend()\n",
    "plt.show()"
   ]
  },
  {
   "cell_type": "code",
   "execution_count": null,
   "id": "1d012772",
   "metadata": {},
   "outputs": [],
   "source": [
    "# Gráfico Barras Agrupadas - HammingLoss\n",
    "hamminglossbow = [0.09, 0.11, 0.13]\n",
    "hamminglosstfidf = [0.10, 0.15, 0.13]\n",
    " \n",
    "# Definindo a largura das barras\n",
    "barWidth = 0.25\n",
    "\n",
    "# Aumentando o gráfico\n",
    "plt.figure(figsize=(10,5))\n",
    "\n",
    "# Definindo a posição das barras\n",
    "r1 = np.arange(len(hamminglossbow))\n",
    "r2 = [x + barWidth for x in r1]\n",
    "\n",
    " \n",
    "# Criando as barras\n",
    "plt.bar(r1, hamminglossbow, color='#5A246D', width=barWidth, label='Hamming Loss - BoW')\n",
    "plt.bar(r2, hamminglosstfidf, color='#6495ED', width=barWidth, label='Hamming Loss - TF-IDF')\n",
    " \n",
    "# Adiciando legendas as barras\n",
    "plt.xlabel('Modelos')\n",
    "plt.xticks([r + barWidth for r in range(len(hamminglossbow))], ['SVM', 'NB', 'AD'])\n",
    "plt.ylabel('Valores')\n",
    " \n",
    "# Criando a legenda e exibindo o gráfico\n",
    "plt.legend()\n",
    "plt.show()"
   ]
  }
 ],
 "metadata": {
  "kernelspec": {
   "display_name": "Python 3 (ipykernel)",
   "language": "python",
   "name": "python3"
  },
  "language_info": {
   "codemirror_mode": {
    "name": "ipython",
    "version": 3
   },
   "file_extension": ".py",
   "mimetype": "text/x-python",
   "name": "python",
   "nbconvert_exporter": "python",
   "pygments_lexer": "ipython3",
   "version": "3.8.5"
  }
 },
 "nbformat": 4,
 "nbformat_minor": 5
}
